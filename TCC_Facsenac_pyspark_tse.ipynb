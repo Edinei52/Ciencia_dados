{
  "cells": [
    {
      "cell_type": "markdown",
      "metadata": {
        "id": "view-in-github",
        "colab_type": "text"
      },
      "source": [
        "<a href=\"https://colab.research.google.com/github/Edinei52/Ciencia_dados/blob/main/TCC_Facsenac_pyspark_tse.ipynb\" target=\"_parent\"><img src=\"https://colab.research.google.com/assets/colab-badge.svg\" alt=\"Open In Colab\"/></a>"
      ]
    },
    {
      "cell_type": "markdown",
      "metadata": {
        "id": "X7okQ5db6E5E"
      },
      "source": [
        "## <font color='black'>**TCC** - **FACSENAC**</font>\n",
        "\n",
        "### <font color='blue'>Detecção de Outliers nas Prestações de Contas Eleitorais de 2024: Uma Análise dos Dados do Tribunal Superior Eleitoral</font>\n",
        "\n",
        "###### Aluno: Edinei Coelho Ferreira\n",
        "\n",
        "\n"
      ]
    },
    {
      "cell_type": "code",
      "execution_count": null,
      "metadata": {
        "id": "NQSGCWry6E5I",
        "outputId": "2da403aa-0a30-4c4c-8ffb-81ec85505c96",
        "colab": {
          "base_uri": "https://localhost:8080/"
        }
      },
      "outputs": [
        {
          "output_type": "stream",
          "name": "stdout",
          "text": [
            "Versão da Linguagem Python Usada Neste Jupyter Notebook: 3.11.11\n"
          ]
        }
      ],
      "source": [
        "# Versão da Linguagem Python\n",
        "from platform import python_version\n",
        "print('Versão da Linguagem Python Usada Neste Jupyter Notebook:', python_version())"
      ]
    },
    {
      "cell_type": "code",
      "source": [
        "!pip install findspark"
      ],
      "metadata": {
        "colab": {
          "base_uri": "https://localhost:8080/"
        },
        "id": "LD0Ca63r1jHy",
        "outputId": "794d6230-f1a8-4e62-8eb8-cf507fa78ca3"
      },
      "execution_count": null,
      "outputs": [
        {
          "output_type": "stream",
          "name": "stdout",
          "text": [
            "Collecting findspark\n",
            "  Downloading findspark-2.0.1-py2.py3-none-any.whl.metadata (352 bytes)\n",
            "Downloading findspark-2.0.1-py2.py3-none-any.whl (4.4 kB)\n",
            "Installing collected packages: findspark\n",
            "Successfully installed findspark-2.0.1\n"
          ]
        }
      ]
    },
    {
      "cell_type": "markdown",
      "source": [
        "Essas linhas de código abaixo são usadas para configurar o ambiente do Python para trabalhar com o Apache Spark, uma ferramenta poderosa para processamento de grandes volumes de dados.\n",
        "\n",
        "1.   **import findspark**: A biblioteca findspark é importada para ajudar a localizar e configurar automaticamente o Spark no ambiente Python. Isso é útil especialmente quando o Spark não está no caminho padrão ou em instalações específicas.\n",
        "\n",
        "2.  **findspark.init**: Esta função inicializa o ambiente do Spark, configurando variáveis necessárias para que as bibliotecas do Spark (como PySpark) sejam acessíveis no Python.\n",
        "\n"
      ],
      "metadata": {
        "id": "gGeZI3r8oFfR"
      }
    },
    {
      "cell_type": "code",
      "execution_count": null,
      "metadata": {
        "id": "ZtEFOuDY6E5N"
      },
      "outputs": [],
      "source": [
        "# Importa o findspark e inicializa\n",
        "import findspark\n",
        "findspark.init()"
      ]
    },
    {
      "cell_type": "code",
      "execution_count": null,
      "metadata": {
        "id": "CPDsD_yhZrO1"
      },
      "outputs": [],
      "source": [
        "# Importar as bibliotecas necessarias para analise.\n",
        "import pyspark\n",
        "import pandas as pd\n",
        "import numpy as np\n",
        "import seaborn as sns\n",
        "from matplotlib import pyplot as plt\n",
        "from pyspark import SparkConf, SparkContext\n",
        "from pyspark.sql import SparkSession, SQLContext\n",
        "from pyspark.sql.types import *\n",
        "from pyspark.sql.functions import *\n",
        "from pyspark.sql.functions import udf"
      ]
    },
    {
      "cell_type": "markdown",
      "source": [
        "#####Essas linhas de código abaixo têm como objetivo configurar a exibição de dados no pandas e ajustar o comportamento do matplotlib ao tratar logs de erro.\n",
        "\n",
        "**pd.set_option('display.max_columns', 200):**\n",
        "\n",
        "Essa linha configura o pandas para exibir até 200 colunas ao visualizar DataFrames. Por padrão, o pandas pode limitar a quantidade de colunas exibidas na tela para evitar sobrecarga visual, mas aqui a restrição é ampliada.\n",
        "\n",
        "**pd.set_option('display.max_colwidth', 400):**\n",
        "\n",
        "Isso ajusta o limite de largura (em caracteres) das colunas ao exibir valores no pandas. Por exemplo, strings longas serão mostradas inteiramente até 400 caracteres antes de serem cortadas.\n",
        "\n",
        "**from matplotlib.axes._axes import _log as matplotlib_axes_logger:**\n",
        "\n",
        "Importa a funcionalidade de log interno usada pelo módulo de \"eixos\" (axes) do matplotlib. _log é uma instância usada para rastrear mensagens de erro e warnings no matplotlib.\n",
        "\n",
        "**matplotlib_axes_logger.setLevel('ERROR'):**\n",
        "\n",
        "Define o nível de logging do matplotlib para apenas exibir mensagens do tipo \"ERROR\". Isso significa que avisos (warnings) serão ocultados, tornando a saída mais limpa ao trabalhar com gráficos."
      ],
      "metadata": {
        "id": "rZ-Yl6keqONW"
      }
    },
    {
      "cell_type": "code",
      "execution_count": null,
      "metadata": {
        "id": "XXzh0MGX6E5O"
      },
      "outputs": [],
      "source": [
        "# Formatação das saídas\n",
        "pd.set_option('display.max_columns', 200)\n",
        "pd.set_option('display.max_colwidth', 400)\n",
        "from matplotlib.axes._axes import _log as matplotlib_axes_logger\n",
        "matplotlib_axes_logger.setLevel('ERROR')"
      ]
    },
    {
      "cell_type": "markdown",
      "source": [
        "Este é o comando abaixo para instalar a biblioteca **watermark** usando o gerenciador de pacotes do Python, o **pip**. A biblioteca **watermar**k é uma extensão para o Jupyter Notebook que permite exibir informações úteis sobre o ambiente Python, como a versão do Python, bibliotecas instaladas, data, hora, entre outros."
      ],
      "metadata": {
        "id": "hdBAiQlzu7Qb"
      }
    },
    {
      "cell_type": "code",
      "source": [
        "!pip install watermark"
      ],
      "metadata": {
        "colab": {
          "base_uri": "https://localhost:8080/"
        },
        "id": "o7xqYG3J16zp",
        "outputId": "a058b627-b6b8-4cb4-c670-bb822325feea"
      },
      "execution_count": null,
      "outputs": [
        {
          "output_type": "stream",
          "name": "stdout",
          "text": [
            "Collecting watermark\n",
            "  Downloading watermark-2.5.0-py2.py3-none-any.whl.metadata (1.4 kB)\n",
            "Requirement already satisfied: ipython>=6.0 in /usr/local/lib/python3.11/dist-packages (from watermark) (7.34.0)\n",
            "Requirement already satisfied: importlib-metadata>=1.4 in /usr/local/lib/python3.11/dist-packages (from watermark) (8.6.1)\n",
            "Requirement already satisfied: setuptools in /usr/local/lib/python3.11/dist-packages (from watermark) (75.1.0)\n",
            "Requirement already satisfied: zipp>=3.20 in /usr/local/lib/python3.11/dist-packages (from importlib-metadata>=1.4->watermark) (3.21.0)\n",
            "Collecting jedi>=0.16 (from ipython>=6.0->watermark)\n",
            "  Downloading jedi-0.19.2-py2.py3-none-any.whl.metadata (22 kB)\n",
            "Requirement already satisfied: decorator in /usr/local/lib/python3.11/dist-packages (from ipython>=6.0->watermark) (4.4.2)\n",
            "Requirement already satisfied: pickleshare in /usr/local/lib/python3.11/dist-packages (from ipython>=6.0->watermark) (0.7.5)\n",
            "Requirement already satisfied: traitlets>=4.2 in /usr/local/lib/python3.11/dist-packages (from ipython>=6.0->watermark) (5.7.1)\n",
            "Requirement already satisfied: prompt-toolkit!=3.0.0,!=3.0.1,<3.1.0,>=2.0.0 in /usr/local/lib/python3.11/dist-packages (from ipython>=6.0->watermark) (3.0.50)\n",
            "Requirement already satisfied: pygments in /usr/local/lib/python3.11/dist-packages (from ipython>=6.0->watermark) (2.18.0)\n",
            "Requirement already satisfied: backcall in /usr/local/lib/python3.11/dist-packages (from ipython>=6.0->watermark) (0.2.0)\n",
            "Requirement already satisfied: matplotlib-inline in /usr/local/lib/python3.11/dist-packages (from ipython>=6.0->watermark) (0.1.7)\n",
            "Requirement already satisfied: pexpect>4.3 in /usr/local/lib/python3.11/dist-packages (from ipython>=6.0->watermark) (4.9.0)\n",
            "Requirement already satisfied: parso<0.9.0,>=0.8.4 in /usr/local/lib/python3.11/dist-packages (from jedi>=0.16->ipython>=6.0->watermark) (0.8.4)\n",
            "Requirement already satisfied: ptyprocess>=0.5 in /usr/local/lib/python3.11/dist-packages (from pexpect>4.3->ipython>=6.0->watermark) (0.7.0)\n",
            "Requirement already satisfied: wcwidth in /usr/local/lib/python3.11/dist-packages (from prompt-toolkit!=3.0.0,!=3.0.1,<3.1.0,>=2.0.0->ipython>=6.0->watermark) (0.2.13)\n",
            "Downloading watermark-2.5.0-py2.py3-none-any.whl (7.7 kB)\n",
            "Downloading jedi-0.19.2-py2.py3-none-any.whl (1.6 MB)\n",
            "\u001b[2K   \u001b[90m━━━━━━━━━━━━━━━━━━━━━━━━━━━━━━━━━━━━━━━━\u001b[0m \u001b[32m1.6/1.6 MB\u001b[0m \u001b[31m18.8 MB/s\u001b[0m eta \u001b[36m0:00:00\u001b[0m\n",
            "\u001b[?25hInstalling collected packages: jedi, watermark\n",
            "Successfully installed jedi-0.19.2 watermark-2.5.0\n"
          ]
        }
      ]
    },
    {
      "cell_type": "markdown",
      "source": [
        "**%reload_ext watermark:**\n",
        "\n",
        "Esse comando é usado em Notebooks para recarregar uma extensão mágica, no caso, a extensão **watermark**. Extensões mágicas são comandos adicionais que aumentam as funcionalidades do notebook.\n",
        "\n",
        "Aqui, ele certifica que a extensão do watermark está carregada e atualizada, caso tenha sido modificada.\n",
        "\n",
        "**%watermark -a \"Edinei Coelho Ferreira\" --iversions:**\n",
        "\n",
        "O comando %watermark é usado para gerar uma \"marca d'água\" informativa. Ele é configurado aqui com os seguintes parâmetros:\n",
        "\n",
        "-a \"Edinei Coelho Ferreira\": A opção -a adiciona um \"autor\" à marca d'água, neste caso, o nome fornecido (\"Edinei Coelho Ferreira\").\n",
        "\n",
        "--iversions: Essa opção exibe as versões das bibliotecas Python importadas no notebook."
      ],
      "metadata": {
        "id": "KBCYLuPCvueL"
      }
    },
    {
      "cell_type": "code",
      "execution_count": null,
      "metadata": {
        "id": "Vc9GtN1F6E5P",
        "outputId": "21fc25b6-ffe4-4bab-e3b4-a735f55c3ede",
        "colab": {
          "base_uri": "https://localhost:8080/"
        }
      },
      "outputs": [
        {
          "output_type": "stream",
          "name": "stdout",
          "text": [
            "Author: Edinei Coelho Ferreira\n",
            "\n",
            "platform  : 1.0.8\n",
            "numpy     : 2.0.2\n",
            "seaborn   : 0.13.2\n",
            "decimal   : 1.70\n",
            "pandas    : 2.2.2\n",
            "findspark : 2.0.1\n",
            "py4j      : 0.10.9.7\n",
            "pyspark   : 3.5.5\n",
            "sys       : 3.11.11 (main, Dec  4 2024, 08:55:07) [GCC 11.4.0]\n",
            "matplotlib: 3.10.0\n",
            "\n"
          ]
        }
      ],
      "source": [
        "# Versões dos pacotes usados.\n",
        "%reload_ext watermark\n",
        "%watermark -a \"Edinei Coelho Ferreira\" --iversions"
      ]
    },
    {
      "cell_type": "markdown",
      "metadata": {
        "id": "wHaSls4e6E5Q"
      },
      "source": [
        "## Preparando o ambiente Spark"
      ]
    },
    {
      "cell_type": "code",
      "execution_count": null,
      "metadata": {
        "id": "eeFpjeqJZ6Nf"
      },
      "outputs": [],
      "source": [
        "# Definindo semente aleatória (seed) para reprodutibilidade do notebook\n",
        "rnd_seed = 23\n",
        "np.random.seed = rnd_seed\n",
        "np.random.set_state = rnd_seed"
      ]
    },
    {
      "cell_type": "markdown",
      "source": [
        "**O que é SparkContext**?\n",
        "\n",
        "É como o \"cérebro\" do Spark, responsável por coordenar as operações entre o driver (onde o programa roda) e os executores (que fazem o trabalho no cluster).\n",
        "\n",
        "Ele cria uma conexão com o cluster Spark e configura serviços como memória compartilhada, distribuída, ou mapeia operações nos nós do cluster."
      ],
      "metadata": {
        "id": "mSCZLazuxP57"
      }
    },
    {
      "cell_type": "code",
      "execution_count": null,
      "metadata": {
        "id": "BQTuvaMhKkrK"
      },
      "outputs": [],
      "source": [
        "# Criando o Spark Context\n",
        "sc = SparkContext(appName = \"Spark-TSE\")"
      ]
    },
    {
      "cell_type": "markdown",
      "source": [
        "O código abaixo **spark_session = SparkSession.Builder().getOrCreate()** é usado para criar ou obter uma instância do **SparkSession**, que é o ponto de entrada para todas as funcionalidades do Spark com **DataFrame**s e **SQL**."
      ],
      "metadata": {
        "id": "UTr421w0xp3Q"
      }
    },
    {
      "cell_type": "code",
      "execution_count": null,
      "metadata": {
        "id": "A4FBofog6E5R"
      },
      "outputs": [],
      "source": [
        "# Criando a sessão Spark\n",
        "spark_session = SparkSession.Builder().getOrCreate()"
      ]
    },
    {
      "cell_type": "code",
      "execution_count": null,
      "metadata": {
        "colab": {
          "base_uri": "https://localhost:8080/",
          "height": 222
        },
        "id": "Ec8oNb8qK6Pm",
        "outputId": "919f9f03-5e64-424c-ddcc-685dfe887955"
      },
      "outputs": [
        {
          "output_type": "execute_result",
          "data": {
            "text/plain": [
              "<pyspark.sql.session.SparkSession at 0x7f95fe2967d0>"
            ],
            "text/html": [
              "\n",
              "            <div>\n",
              "                <p><b>SparkSession - in-memory</b></p>\n",
              "                \n",
              "        <div>\n",
              "            <p><b>SparkContext</b></p>\n",
              "\n",
              "            <p><a href=\"http://de82c42da59a:4040\">Spark UI</a></p>\n",
              "\n",
              "            <dl>\n",
              "              <dt>Version</dt>\n",
              "                <dd><code>v3.5.5</code></dd>\n",
              "              <dt>Master</dt>\n",
              "                <dd><code>local[*]</code></dd>\n",
              "              <dt>AppName</dt>\n",
              "                <dd><code>Spark-TSE</code></dd>\n",
              "            </dl>\n",
              "        </div>\n",
              "        \n",
              "            </div>\n",
              "        "
            ]
          },
          "metadata": {},
          "execution_count": 11
        }
      ],
      "source": [
        "# Visualiza o objeto spark_session\n",
        "spark_session"
      ]
    },
    {
      "cell_type": "markdown",
      "metadata": {
        "id": "URNkBmGg6E5T"
      },
      "source": [
        "## Carregando e examinando os dados"
      ]
    },
    {
      "cell_type": "code",
      "execution_count": null,
      "metadata": {
        "id": "MrRYMdxGM2SJ"
      },
      "outputs": [],
      "source": [
        "# Carrega os dados do TSE a partir da sessão Spark\n",
        "tse_spark = spark_session.read.options(delimiter = \";\", header = 'true', inferSchema = 'true', encoding = 'latin1').csv('/content/extrato_bancario_candidato_2024.csv')\n"
      ]
    },
    {
      "cell_type": "markdown",
      "source": [
        "O **pyspark.sql.dataframe.DataFrame** é uma classe fundamental no PySpark, a biblioteca de processamento de dados da Apache Spark para Python. Ela representa uma coleção distribuída de dados organizados em colunas, de forma similar a uma tabela em um banco de dados relacional ou a um DataFrame no pandas (outra biblioteca Python muito popular para análise de dados)."
      ],
      "metadata": {
        "id": "KrvdyOKJ06Rq"
      }
    },
    {
      "cell_type": "code",
      "execution_count": null,
      "metadata": {
        "id": "x_dmboL46E5T",
        "outputId": "019a4ae8-ef55-4985-bb18-4a29e8f86857",
        "colab": {
          "base_uri": "https://localhost:8080/",
          "height": 186
        }
      },
      "outputs": [
        {
          "output_type": "execute_result",
          "data": {
            "text/plain": [
              "pyspark.sql.dataframe.DataFrame"
            ],
            "text/html": [
              "<div style=\"max-width:800px; border: 1px solid var(--colab-border-color);\"><style>\n",
              "      pre.function-repr-contents {\n",
              "        overflow-x: auto;\n",
              "        padding: 8px 12px;\n",
              "        max-height: 500px;\n",
              "      }\n",
              "\n",
              "      pre.function-repr-contents.function-repr-contents-collapsed {\n",
              "        cursor: pointer;\n",
              "        max-height: 100px;\n",
              "      }\n",
              "    </style>\n",
              "    <pre style=\"white-space: initial; background:\n",
              "         var(--colab-secondary-surface-color); padding: 8px 12px;\n",
              "         border-bottom: 1px solid var(--colab-border-color);\"><b>pyspark.sql.dataframe.DataFrame</b><br/>def __init__(jdf: JavaObject, sql_ctx: Union[&#x27;SQLContext&#x27;, &#x27;SparkSession&#x27;])</pre><pre class=\"function-repr-contents function-repr-contents-collapsed\" style=\"\"><a class=\"filepath\" style=\"display:none\" href=\"#\">/usr/local/lib/python3.11/dist-packages/pyspark/sql/dataframe.py</a>A distributed collection of data grouped into named columns.\n",
              "\n",
              ".. versionadded:: 1.3.0\n",
              "\n",
              ".. versionchanged:: 3.4.0\n",
              "    Supports Spark Connect.\n",
              "\n",
              "Examples\n",
              "--------\n",
              "A :class:`DataFrame` is equivalent to a relational table in Spark SQL,\n",
              "and can be created using various functions in :class:`SparkSession`:\n",
              "\n",
              "&gt;&gt;&gt; people = spark.createDataFrame([\n",
              "...     {&quot;deptId&quot;: 1, &quot;age&quot;: 40, &quot;name&quot;: &quot;Hyukjin Kwon&quot;, &quot;gender&quot;: &quot;M&quot;, &quot;salary&quot;: 50},\n",
              "...     {&quot;deptId&quot;: 1, &quot;age&quot;: 50, &quot;name&quot;: &quot;Takuya Ueshin&quot;, &quot;gender&quot;: &quot;M&quot;, &quot;salary&quot;: 100},\n",
              "...     {&quot;deptId&quot;: 2, &quot;age&quot;: 60, &quot;name&quot;: &quot;Xinrong Meng&quot;, &quot;gender&quot;: &quot;F&quot;, &quot;salary&quot;: 150},\n",
              "...     {&quot;deptId&quot;: 3, &quot;age&quot;: 20, &quot;name&quot;: &quot;Haejoon Lee&quot;, &quot;gender&quot;: &quot;M&quot;, &quot;salary&quot;: 200}\n",
              "... ])\n",
              "\n",
              "Once created, it can be manipulated using the various domain-specific-language\n",
              "(DSL) functions defined in: :class:`DataFrame`, :class:`Column`.\n",
              "\n",
              "To select a column from the :class:`DataFrame`, use the apply method:\n",
              "\n",
              "&gt;&gt;&gt; age_col = people.age\n",
              "\n",
              "A more concrete example:\n",
              "\n",
              "&gt;&gt;&gt; # To create DataFrame using SparkSession\n",
              "... department = spark.createDataFrame([\n",
              "...     {&quot;id&quot;: 1, &quot;name&quot;: &quot;PySpark&quot;},\n",
              "...     {&quot;id&quot;: 2, &quot;name&quot;: &quot;ML&quot;},\n",
              "...     {&quot;id&quot;: 3, &quot;name&quot;: &quot;Spark SQL&quot;}\n",
              "... ])\n",
              "\n",
              "&gt;&gt;&gt; people.filter(people.age &gt; 30).join(\n",
              "...     department, people.deptId == department.id).groupBy(\n",
              "...     department.name, &quot;gender&quot;).agg({&quot;salary&quot;: &quot;avg&quot;, &quot;age&quot;: &quot;max&quot;}).show()\n",
              "+-------+------+-----------+--------+\n",
              "|   name|gender|avg(salary)|max(age)|\n",
              "+-------+------+-----------+--------+\n",
              "|     ML|     F|      150.0|      60|\n",
              "|PySpark|     M|       75.0|      50|\n",
              "+-------+------+-----------+--------+\n",
              "\n",
              "Notes\n",
              "-----\n",
              "A DataFrame should only be created as described above. It should not be directly\n",
              "created via using the constructor.</pre>\n",
              "      <script>\n",
              "      if (google.colab.kernel.accessAllowed && google.colab.files && google.colab.files.view) {\n",
              "        for (const element of document.querySelectorAll('.filepath')) {\n",
              "          element.style.display = 'block'\n",
              "          element.onclick = (event) => {\n",
              "            event.preventDefault();\n",
              "            event.stopPropagation();\n",
              "            google.colab.files.view(element.textContent, 80);\n",
              "          };\n",
              "        }\n",
              "      }\n",
              "      for (const element of document.querySelectorAll('.function-repr-contents')) {\n",
              "        element.onclick = (event) => {\n",
              "          event.preventDefault();\n",
              "          event.stopPropagation();\n",
              "          element.classList.toggle('function-repr-contents-collapsed');\n",
              "        };\n",
              "      }\n",
              "      </script>\n",
              "      </div>"
            ]
          },
          "metadata": {},
          "execution_count": 13
        }
      ],
      "source": [
        "# Tipo do objeto\n",
        "type(tse_spark)"
      ]
    },
    {
      "cell_type": "code",
      "execution_count": null,
      "metadata": {
        "colab": {
          "base_uri": "https://localhost:8080/"
        },
        "id": "9COe3UZhO0D5",
        "outputId": "21b85fe4-414a-41c1-c1c7-7c383884425b",
        "scrolled": false
      },
      "outputs": [
        {
          "output_type": "stream",
          "name": "stdout",
          "text": [
            "+----------+-------------------+-------------+-----------------------+------------------------+--------------------+----------+---------+---------+--------------------+-------------+--------------------+-------------+-----------+--------------------+--------+--------------------+----------+----------+--------+-------------+--------------------+--------------------+----------------------+--------------------+-----------------------+--------------------+----------------+--------------------+------------------------+\n",
            "|DT_GERACAO|         HH_GERACAO|AA_REFERENCIA|NR_CNPJ_PRESTADOR_CONTA|DS_CARGO_PRESTADOR_CONTA|  NM_PRESTADOR_CONTA|SG_PARTIDO|NM_ESFERA|TP_PESSOA|       DS_LANCAMENTO|DT_LANCAMENTO|        NR_DOCUMENTO|TP_LANCAMENTO|TP_OPERACAO|         NM_OPERACAO|CD_BANCO|            NM_BANCO|NR_AGENCIA|  NR_CONTA|TP_CONTA|VR_LANCAMENTO|CD_BANCO_CONTRAPARTE|NM_BANCO_CONTRAPARTE|NR_AGENCIA_CONTRAPARTE|NR_CONTA_CONTRAPARTE|NR_CPF_CNPJ_CONTRAPARTE|      NM_CONTRAPARTE|CD_FONTE_RECURSO|    NM_FONTE_RECURSO|DS_DETALHE_FONTE_RECURSO|\n",
            "+----------+-------------------+-------------+-----------------------+------------------------+--------------------+----------+---------+---------+--------------------+-------------+--------------------+-------------+-----------+--------------------+--------+--------------------+----------+----------+--------+-------------+--------------------+--------------------+----------------------+--------------------+-----------------------+--------------------+----------------+--------------------+------------------------+\n",
            "|06/01/2025|2025-03-26 04:45:18|         2024|         56630111000136|                PREFEITO|MALBERK ANTOINE K...|       MDB|   #NULO#|        2|      1166-TED - SPB|   03/10/2024|00000000000000010736|            C|        209|TRANSFERÊNCIA INT...|      41|BANCO DO ESTADO D...|       329| 601919104|       1|      4000,00|                   1|          BCO BRASIL|                  3129|00000000000000352047|           676213000138|MOVIMENTO DEMOCRA...|          #NULO#|              #NULO#|                  #NULO#|\n",
            "|06/01/2025|2025-03-26 04:45:18|         2024|         56591752000129|                PREFEITO|SIMONE DE CRISTO ...|     UNIÃO|   #NULO#|        1|TRANSFERENCIA ENV...|   04/10/2024|     000000000100410|            D|        117|TRANSFERÊNCIA ENT...|       1|          BCO BRASIL|       971|    373656|       1|       635,40|                 380|              #NULO#|                     1|00000000000708670377|            48213248813|Hytaly Kariny dos...|               2|Fundo Especial de...|                    FEFC|\n",
            "|06/01/2025|2025-03-26 04:45:18|         2024|         56820787000192|                PREFEITO|ROSÁRIA BARBOSA L...|        PT|   #NULO#|        1|           ENVIO PIX|   03/10/2024|               30848|            D|        120|TRANSF. INTERBANC...|     104|CAIXA ECONOMICA F...|      3352|3000009382|       1|      1500,00|                 380|              #NULO#|                     1|00000000000559990030|             8030000901|      Amanda Antonio|               2|Fundo Especial de...|                    FEFC|\n",
            "|06/01/2025|2025-03-26 04:45:18|         2024|         56771102000165|                VEREADOR|THIAGO NUNES DE A...|       MDB|   #NULO#|        2|TRANSFERENCIA ENV...|   20/09/2024|     613506000043219|            D|        117|TRANSFERÊNCIA ENT...|       1|          BCO BRASIL|      1065|    321818|       1|       999,00|                   1|          BCO BRASIL|                  3506|00000000000000432199|         32184372000101|RITA MARIA ARAUJO...|               2|Fundo Especial de...|                    FEFC|\n",
            "|06/01/2025|2025-03-26 04:45:18|         2024|         56598506000107|                VEREADOR|DANIELLA PRUDENTE...|        PL|   #NULO#|        1|TRANSFERENCIA ENV...|   13/09/2024|     000000000091312|            D|        117|TRANSFERÊNCIA ENT...|       1|          BCO BRASIL|       794|    784125|       1|       350,00|                 260|              #NULO#|                     1|00000000008617139879|              439645166|Cleuton da Silva ...|               2|Fundo Especial de...|                    FEFC|\n",
            "+----------+-------------------+-------------+-----------------------+------------------------+--------------------+----------+---------+---------+--------------------+-------------+--------------------+-------------+-----------+--------------------+--------+--------------------+----------+----------+--------+-------------+--------------------+--------------------+----------------------+--------------------+-----------------------+--------------------+----------------+--------------------+------------------------+\n",
            "only showing top 5 rows\n",
            "\n"
          ]
        }
      ],
      "source": [
        "# Visualiza os dados\n",
        "tse_spark.show(5)"
      ]
    },
    {
      "cell_type": "markdown",
      "source": [
        "**tse_spark.printSchema()**: Este comando exibe a estrutura (esquema) do DataFrame\n",
        "\n",
        "**tse_spark.** Ele mostra os nomes das colunas, os tipos de dados de cada coluna **(como StringType, IntegerType**, etc.), e se há permissões para valores nulos em cada coluna. É excelente para entender a \"forma\" dos dados com os quais você está trabalhando.\n",
        "\n",
        "**tse_spark.select([...]).show():**\n",
        "\n",
        "Aqui, você está usando uma expressão Python que combina várias funções do PySpark:\n",
        "\n",
        "**when(col(c).isNull(), c)**: Verifica se os valores em uma coluna c são nulos **(NULL)**.\n",
        "\n",
        "**count(when(...))**: Conta o número de valores nulos em cada coluna.\n",
        "\n",
        "**.alias(c)**: Dá um nome para a coluna no resultado, usando o nome original da coluna.\n",
        "\n",
        "**for c in tse_spark.columns**: Itera sobre todas as colunas do DataFrame **tse_spark.**\n",
        "\n",
        "Esse comando resulta em uma análise de valores nulos em todas as colunas do DataFrame. Ele cria um DataFrame com os nomes das colunas originais e suas respectivas contagens de valores nulos. O método **.show() **então exibe esses resultados de forma tabular no console."
      ],
      "metadata": {
        "id": "F5OVasKz1v0n"
      }
    },
    {
      "cell_type": "markdown",
      "metadata": {
        "id": "fDv7coNn6E5U"
      },
      "source": [
        "## Verificando e limpando os dados"
      ]
    },
    {
      "cell_type": "code",
      "execution_count": null,
      "metadata": {
        "colab": {
          "base_uri": "https://localhost:8080/"
        },
        "id": "lLR1WMTfO42i",
        "outputId": "1039f16f-4179-4b9a-dce5-d0da2116ba46",
        "scrolled": false
      },
      "outputs": [
        {
          "output_type": "stream",
          "name": "stdout",
          "text": [
            "root\n",
            " |-- DT_GERACAO: string (nullable = true)\n",
            " |-- HH_GERACAO: timestamp (nullable = true)\n",
            " |-- AA_REFERENCIA: integer (nullable = true)\n",
            " |-- NR_CNPJ_PRESTADOR_CONTA: long (nullable = true)\n",
            " |-- DS_CARGO_PRESTADOR_CONTA: string (nullable = true)\n",
            " |-- NM_PRESTADOR_CONTA: string (nullable = true)\n",
            " |-- SG_PARTIDO: string (nullable = true)\n",
            " |-- NM_ESFERA: string (nullable = true)\n",
            " |-- TP_PESSOA: integer (nullable = true)\n",
            " |-- DS_LANCAMENTO: string (nullable = true)\n",
            " |-- DT_LANCAMENTO: string (nullable = true)\n",
            " |-- NR_DOCUMENTO: string (nullable = true)\n",
            " |-- TP_LANCAMENTO: string (nullable = true)\n",
            " |-- TP_OPERACAO: integer (nullable = true)\n",
            " |-- NM_OPERACAO: string (nullable = true)\n",
            " |-- CD_BANCO: integer (nullable = true)\n",
            " |-- NM_BANCO: string (nullable = true)\n",
            " |-- NR_AGENCIA: integer (nullable = true)\n",
            " |-- NR_CONTA: long (nullable = true)\n",
            " |-- TP_CONTA: integer (nullable = true)\n",
            " |-- VR_LANCAMENTO: string (nullable = true)\n",
            " |-- CD_BANCO_CONTRAPARTE: integer (nullable = true)\n",
            " |-- NM_BANCO_CONTRAPARTE: string (nullable = true)\n",
            " |-- NR_AGENCIA_CONTRAPARTE: integer (nullable = true)\n",
            " |-- NR_CONTA_CONTRAPARTE: string (nullable = true)\n",
            " |-- NR_CPF_CNPJ_CONTRAPARTE: long (nullable = true)\n",
            " |-- NM_CONTRAPARTE: string (nullable = true)\n",
            " |-- CD_FONTE_RECURSO: string (nullable = true)\n",
            " |-- NM_FONTE_RECURSO: string (nullable = true)\n",
            " |-- DS_DETALHE_FONTE_RECURSO: string (nullable = true)\n",
            "\n",
            "+----------+----------+-------------+-----------------------+------------------------+------------------+----------+---------+---------+-------------+-------------+------------+-------------+-----------+-----------+--------+--------+----------+--------+--------+-------------+--------------------+--------------------+----------------------+--------------------+-----------------------+--------------+----------------+----------------+------------------------+\n",
            "|DT_GERACAO|HH_GERACAO|AA_REFERENCIA|NR_CNPJ_PRESTADOR_CONTA|DS_CARGO_PRESTADOR_CONTA|NM_PRESTADOR_CONTA|SG_PARTIDO|NM_ESFERA|TP_PESSOA|DS_LANCAMENTO|DT_LANCAMENTO|NR_DOCUMENTO|TP_LANCAMENTO|TP_OPERACAO|NM_OPERACAO|CD_BANCO|NM_BANCO|NR_AGENCIA|NR_CONTA|TP_CONTA|VR_LANCAMENTO|CD_BANCO_CONTRAPARTE|NM_BANCO_CONTRAPARTE|NR_AGENCIA_CONTRAPARTE|NR_CONTA_CONTRAPARTE|NR_CPF_CNPJ_CONTRAPARTE|NM_CONTRAPARTE|CD_FONTE_RECURSO|NM_FONTE_RECURSO|DS_DETALHE_FONTE_RECURSO|\n",
            "+----------+----------+-------------+-----------------------+------------------------+------------------+----------+---------+---------+-------------+-------------+------------+-------------+-----------+-----------+--------+--------+----------+--------+--------+-------------+--------------------+--------------------+----------------------+--------------------+-----------------------+--------------+----------------+----------------+------------------------+\n",
            "|         0|         0|            0|                      0|                       0|                 0|         0|        0|        0|            0|            0|           0|            0|          0|          0|       0|       0|         0|       0|       0|            0|                   0|                   0|                     0|                   0|                      0|             0|               0|               0|                       0|\n",
            "+----------+----------+-------------+-----------------------+------------------------+------------------+----------+---------+---------+-------------+-------------+------------+-------------+-----------+-----------+--------+--------+----------+--------+--------+-------------+--------------------+--------------------+----------------------+--------------------+-----------------------+--------------+----------------+----------------+------------------------+\n",
            "\n"
          ]
        }
      ],
      "source": [
        "# Visualiza os metadados (schema) e valores ausentes\n",
        "tse_spark.printSchema()\n",
        "tse_spark.select([count(when(col(c).isNull(), c)).alias(c) for c in tse_spark.columns]).show()"
      ]
    },
    {
      "cell_type": "code",
      "execution_count": null,
      "metadata": {
        "id": "oKtMCGdU6E5V"
      },
      "outputs": [],
      "source": [
        "# Tratar valores nulos e ausentes\n",
        "# Substituir '#NULO' e '#NE' por 'None', assim com os valores -1 e -3 para os campos numéricos\n",
        "# É importante verificar o arquivo \"leiame.pdf\" fornecido pelo TSE\n",
        "from pyspark.sql.functions import when\n",
        "\n",
        "tse_spark = tse_spark.replace(['#NULO', '#NE'], None)\n",
        "tse_spark = tse_spark.replace([-1, -3], None)"
      ]
    },
    {
      "cell_type": "code",
      "execution_count": null,
      "metadata": {
        "id": "Y1cq59_P6E5V",
        "outputId": "f5e92969-32b9-4416-94a6-074837ca2f8a",
        "colab": {
          "base_uri": "https://localhost:8080/"
        }
      },
      "outputs": [
        {
          "output_type": "execute_result",
          "data": {
            "text/plain": [
              "4823139"
            ]
          },
          "metadata": {},
          "execution_count": 18
        }
      ],
      "source": [
        "# Verifica o número de linhas\n",
        "tse_spark.count()"
      ]
    },
    {
      "cell_type": "markdown",
      "metadata": {
        "id": "O2ngCEdx6E5W"
      },
      "source": [
        "## Estatística Descritiva"
      ]
    },
    {
      "cell_type": "code",
      "execution_count": null,
      "metadata": {
        "id": "e5UMvYgA6E5W"
      },
      "outputs": [],
      "source": [
        "from pyspark.sql.functions import col, regexp_replace\n",
        "\n",
        "# Substituir vírgulas por pontos\n",
        "tse_spark = tse_spark.withColumn(\"valor\", regexp_replace(col(\"VR_LANCAMENTO\"), \",\", \".\"))\n",
        "\n",
        "# Converter a coluna para numérica\n",
        "tse_spark = tse_spark.withColumn(\"valor_numerico\", col(\"valor\").cast(\"double\"))\n",
        "\n",
        "# Excluir valores missing\n",
        "tse_spark = tse_spark.na.drop(subset = [\"valor_numerico\"])"
      ]
    },
    {
      "cell_type": "code",
      "execution_count": null,
      "metadata": {
        "id": "rtfb2Au76E5W",
        "outputId": "9b5fb5cb-be13-4916-ecee-329f3dc4508b",
        "colab": {
          "base_uri": "https://localhost:8080/"
        }
      },
      "outputs": [
        {
          "output_type": "stream",
          "name": "stdout",
          "text": [
            "+-------+------------------+\n",
            "|summary|    valor_numerico|\n",
            "+-------+------------------+\n",
            "|  count|           4823139|\n",
            "|   mean|2781.1664959726436|\n",
            "| stddev|   35205.153526378|\n",
            "|    min|               0.0|\n",
            "|    max|           1.945E7|\n",
            "+-------+------------------+\n",
            "\n"
          ]
        }
      ],
      "source": [
        "# Nome da variável de interesse\n",
        "valor = 'valor_numerico'\n",
        "\n",
        "# Obter o resumo estatístico da variável de interesse\n",
        "resumo_estatistico = tse_spark.select(valor).describe()\n",
        "\n",
        "# Mostrar o resumo estatístico\n",
        "resumo_estatistico.show()"
      ]
    },
    {
      "cell_type": "markdown",
      "metadata": {
        "id": "iQ52PqTe6E5X"
      },
      "source": [
        "## Analisando distribuições"
      ]
    },
    {
      "cell_type": "code",
      "execution_count": null,
      "metadata": {
        "id": "9cLRVVxO6E5X",
        "outputId": "cd595e70-87d1-47da-f180-a12175cf3120",
        "colab": {
          "base_uri": "https://localhost:8080/"
        }
      },
      "outputs": [
        {
          "output_type": "stream",
          "name": "stdout",
          "text": [
            "+-----------+-------+\n",
            "|TP_OPERACAO|  count|\n",
            "+-----------+-------+\n",
            "|        117|2490702|\n",
            "|        120| 735909|\n",
            "|        209| 657404|\n",
            "|        101| 199707|\n",
            "|        104| 182886|\n",
            "|        105| 155127|\n",
            "|        205| 137278|\n",
            "|        213| 118140|\n",
            "|        201|  77013|\n",
            "|        112|  13537|\n",
            "|        114|  11111|\n",
            "|        999|   8515|\n",
            "|        203|   7492|\n",
            "|        215|   6727|\n",
            "|        204|   5923|\n",
            "|        220|   2932|\n",
            "|        124|   2542|\n",
            "|        214|   2016|\n",
            "|        103|   1993|\n",
            "|        206|   1761|\n",
            "+-----------+-------+\n",
            "only showing top 20 rows\n",
            "\n"
          ]
        }
      ],
      "source": [
        "# Distribuição de lançamentos por tipo de operação\n",
        "tse_spark.groupBy('TP_OPERACAO').count().orderBy(col('count').desc()).show()"
      ]
    },
    {
      "cell_type": "code",
      "execution_count": null,
      "metadata": {
        "id": "M2yqDALa6E5Y",
        "outputId": "e9167edf-7bb3-40d2-e60f-4483b581af21",
        "colab": {
          "base_uri": "https://localhost:8080/"
        }
      },
      "outputs": [
        {
          "output_type": "stream",
          "name": "stdout",
          "text": [
            "+---------+-------+\n",
            "|TP_PESSOA|  count|\n",
            "+---------+-------+\n",
            "|     NULL| 181024|\n",
            "|        1|2919678|\n",
            "|        2|1722437|\n",
            "+---------+-------+\n",
            "\n"
          ]
        }
      ],
      "source": [
        "# Distribuição de lançamentos por tipo de pessoa (Física/Jurídica)\n",
        "tse_spark.groupBy('TP_PESSOA').count().show()"
      ]
    },
    {
      "cell_type": "markdown",
      "metadata": {
        "id": "lKi_881j6E5Y"
      },
      "source": [
        "## Verificando a Frequência de Categorias"
      ]
    },
    {
      "cell_type": "code",
      "execution_count": null,
      "metadata": {
        "id": "x3_tjVuq6E5Y",
        "outputId": "3e528896-24ee-468e-bb42-b3cf62c82b69",
        "colab": {
          "base_uri": "https://localhost:8080/"
        }
      },
      "outputs": [
        {
          "output_type": "stream",
          "name": "stdout",
          "text": [
            "+-------------+------+\n",
            "|   SG_PARTIDO| count|\n",
            "+-------------+------+\n",
            "|           PL|579924|\n",
            "|           PT|459136|\n",
            "|          MDB|441968|\n",
            "|           PP|430651|\n",
            "|        UNIÃO|409490|\n",
            "|          PSD|408020|\n",
            "| REPUBLICANOS|351001|\n",
            "|         PODE|215625|\n",
            "|          PSB|205533|\n",
            "|         PSDB|190677|\n",
            "|          PDT|180126|\n",
            "|         PRTB|136024|\n",
            "|          PRD|114332|\n",
            "|SOLIDARIEDADE|110610|\n",
            "|       AVANTE|106296|\n",
            "|         NOVO| 88579|\n",
            "|         PSOL| 85711|\n",
            "|    CIDADANIA| 60277|\n",
            "|      PC do B| 54903|\n",
            "|           PV| 47553|\n",
            "+-------------+------+\n",
            "only showing top 20 rows\n",
            "\n"
          ]
        }
      ],
      "source": [
        "# Partidos com mais lançamentos\n",
        "tse_spark.groupBy('SG_PARTIDO').count().orderBy('count', ascending = False).show(20)"
      ]
    },
    {
      "cell_type": "markdown",
      "metadata": {
        "id": "3Lpo00n-6E5Z"
      },
      "source": [
        "# Valores arrecadados por Partido"
      ]
    },
    {
      "cell_type": "code",
      "execution_count": null,
      "metadata": {
        "id": "PhgHVpyk6E5Z",
        "outputId": "93f3ea67-110a-4b0b-8f85-c4eaaec7d462",
        "colab": {
          "base_uri": "https://localhost:8080/"
        }
      },
      "outputs": [
        {
          "output_type": "stream",
          "name": "stdout",
          "text": [
            "+-------------+--------------------+\n",
            "|   SG_PARTIDO| total_vr_lancamento|\n",
            "+-------------+--------------------+\n",
            "|           PL|     2.09108689393E9|\n",
            "|        UNIÃO|1.3634924854599836E9|\n",
            "|          PSD|1.3490686413499908E9|\n",
            "|           PT|1.3367785260699878E9|\n",
            "|          MDB|1.3260101065799882E9|\n",
            "|           PP|1.2102125561099896E9|\n",
            "| REPUBLICANOS| 8.872545678799956E8|\n",
            "|         PODE|      5.5714112371E8|\n",
            "|          PSB| 5.237998529999998E8|\n",
            "|          PDT|5.0319293380000037E8|\n",
            "|         PSDB|4.8221207933000064E8|\n",
            "|       AVANTE| 2.614473820400002E8|\n",
            "|         PSOL|2.5674452106000024E8|\n",
            "|SOLIDARIEDADE| 2.296089390100003E8|\n",
            "|          PRD|2.1655038745000026E8|\n",
            "|         NOVO|1.8412821677000007E8|\n",
            "|    CIDADANIA|      1.5811367915E8|\n",
            "|      PC do B|1.2472610631999998E8|\n",
            "|           PV|1.1459865420000002E8|\n",
            "|         REDE| 6.446173408999997E7|\n",
            "+-------------+--------------------+\n",
            "only showing top 20 rows\n",
            "\n"
          ]
        }
      ],
      "source": [
        "from pyspark.sql.functions import col, sum as _sum\n",
        "\n",
        "# Agrupar por 'SG_PARTIDO' e somar os valores de 'VR_LANCAMENTO', depois ordenar\n",
        "tse_spark.groupBy('SG_PARTIDO') \\\n",
        "  .agg(_sum('valor_numerico').alias('total_vr_lancamento')) \\\n",
        "  .orderBy(col('total_vr_lancamento').desc()) \\\n",
        "  .show()"
      ]
    },
    {
      "cell_type": "markdown",
      "metadata": {
        "id": "qvQ2V47R6E5Z"
      },
      "source": [
        "# 20 maiores valores arrecadados por Prestador de Contas (CNPJ/Candidato)"
      ]
    },
    {
      "cell_type": "code",
      "execution_count": null,
      "metadata": {
        "id": "zE4FDFKo6E5a",
        "outputId": "30b48ece-213e-4fd9-cd34-cfdbbfacb2bf",
        "colab": {
          "base_uri": "https://localhost:8080/"
        }
      },
      "outputs": [
        {
          "output_type": "stream",
          "name": "stdout",
          "text": [
            "+-----------------------+--------------------+\n",
            "|NR_CNPJ_PRESTADOR_CONTA| total_vr_lancamento|\n",
            "+-----------------------+--------------------+\n",
            "|         56533387000104|1.1864181947999999E8|\n",
            "|         56235333000154|          9.028074E7|\n",
            "|         56233510000163| 7.360533622000001E7|\n",
            "|         56507393000189|        4.26433575E7|\n",
            "|         56324323000195|       4.007597724E7|\n",
            "|         56355648000135|       3.911890242E7|\n",
            "|         56450762000144|3.5941484300000004E7|\n",
            "|         56574927000190|       3.584584946E7|\n",
            "|         56349955000103|       3.229636776E7|\n",
            "|         56516157000129|2.8998442899999995E7|\n",
            "|         56277196000110|       2.847807385E7|\n",
            "|         56403350000153|       2.692625872E7|\n",
            "|         56351329000151|       2.597347538E7|\n",
            "|         56188937000197|2.4740104650000006E7|\n",
            "|         56450417000100|        2.47220823E7|\n",
            "|         56168855000180|        2.46137624E7|\n",
            "|         56448359000180|2.4188612999999996E7|\n",
            "|         56742156000100|       2.407270466E7|\n",
            "|         56497189000124|2.3835075380000003E7|\n",
            "|         56682829000176|2.2228224400000002E7|\n",
            "+-----------------------+--------------------+\n",
            "only showing top 20 rows\n",
            "\n"
          ]
        }
      ],
      "source": [
        "# Agrupar por 'NR_CNPJ_PRESTADOR_CONTA' e somar os valores de 'VR_LANCAMENTO', depois ordenar\n",
        "tse_spark.groupBy('NR_CNPJ_PRESTADOR_CONTA') \\\n",
        "  .agg(_sum('valor_numerico').alias('total_vr_lancamento')) \\\n",
        "  .orderBy(col('total_vr_lancamento').desc()) \\\n",
        "  .show(20)"
      ]
    },
    {
      "cell_type": "code",
      "execution_count": null,
      "metadata": {
        "id": "DZ8f2mf66E5a",
        "outputId": "53c9489c-4d14-4cac-bf6f-37f06fe9e897",
        "colab": {
          "base_uri": "https://localhost:8080/"
        }
      },
      "outputs": [
        {
          "output_type": "stream",
          "name": "stdout",
          "text": [
            "+------------------------+-------+\n",
            "|DS_CARGO_PRESTADOR_CONTA|  count|\n",
            "+------------------------+-------+\n",
            "|                VEREADOR|3343543|\n",
            "|                PREFEITO|1305508|\n",
            "|           VICE-PREFEITO| 174088|\n",
            "+------------------------+-------+\n",
            "\n"
          ]
        }
      ],
      "source": [
        "# Cargos com mais lançamentos\n",
        "tse_spark.groupBy('DS_CARGO_PRESTADOR_CONTA').count().orderBy('count', ascending = False).show()"
      ]
    },
    {
      "cell_type": "markdown",
      "metadata": {
        "id": "HdPNKOdN6E5b"
      },
      "source": [
        "## Analisando Lançamentos por Data"
      ]
    },
    {
      "cell_type": "code",
      "execution_count": null,
      "metadata": {
        "id": "8l-i3cta6E5b"
      },
      "outputs": [],
      "source": [
        "from pyspark.sql.functions import to_date\n",
        "\n",
        "# Convertendo datas para o formato correto\n",
        "tse_spark = tse_spark.withColumn('DT_LANCAMENTO', to_date(col('DT_LANCAMENTO'), 'dd/MM/yyyy'))"
      ]
    },
    {
      "cell_type": "code",
      "execution_count": null,
      "metadata": {
        "id": "3XGZQh9w6E5b",
        "outputId": "2561a356-bc32-4ead-8f30-8a31209bd018",
        "colab": {
          "base_uri": "https://localhost:8080/"
        }
      },
      "outputs": [
        {
          "output_type": "stream",
          "name": "stdout",
          "text": [
            "+-------------------+--------------------+--------------------+\n",
            "|year(DT_LANCAMENTO)|month(DT_LANCAMENTO)| sum(valor_numerico)|\n",
            "+-------------------+--------------------+--------------------+\n",
            "|               2024|                   7|              9047.0|\n",
            "|               2024|                   8|2.1551329060499988E9|\n",
            "|               2024|                   9| 7.869979943960063E9|\n",
            "|               2024|                  10|3.1673810062000847E9|\n",
            "|               2024|                  11|2.2144968900999987E8|\n",
            "+-------------------+--------------------+--------------------+\n",
            "\n"
          ]
        }
      ],
      "source": [
        "# Lançamentos ao longo do tempo\n",
        "tse_spark.groupBy(year('DT_LANCAMENTO'), month('DT_LANCAMENTO')).sum('valor_numerico').orderBy('year(DT_LANCAMENTO)', 'month(DT_LANCAMENTO)').show()"
      ]
    },
    {
      "cell_type": "markdown",
      "metadata": {
        "id": "_kxUK5MZ6E5c"
      },
      "source": [
        "## Análises específicas"
      ]
    },
    {
      "cell_type": "code",
      "execution_count": null,
      "metadata": {
        "id": "Qc90_NDw6E5c",
        "outputId": "7fb30c92-c5a2-437d-b10e-9d9d3f3709a6",
        "colab": {
          "base_uri": "https://localhost:8080/"
        }
      },
      "outputs": [
        {
          "output_type": "stream",
          "name": "stdout",
          "text": [
            "+--------------------+-------+\n",
            "|            NM_BANCO|  count|\n",
            "+--------------------+-------+\n",
            "|          BCO BRASIL|3467370|\n",
            "|CAIXA ECONOMICA F...| 514683|\n",
            "|  ITA? UNIBANCO S.A.| 243738|\n",
            "|BANCO DO ESTADO D...| 206194|\n",
            "|        BCO BRADESCO| 197396|\n",
            "|            BANESTES|  70778|\n",
            "|       BCO SANTANDER|  66314|\n",
            "|BANCO DO ESTADO D...|  41681|\n",
            "|BANCO DO NORDESTE...|  13726|\n",
            "|Banco do Estado d...|   1159|\n",
            "|BANCO COOPERATIVO...|     94|\n",
            "|BANCO MERCANTIL D...|      6|\n",
            "+--------------------+-------+\n",
            "\n"
          ]
        }
      ],
      "source": [
        "# Bancos mais usados\n",
        "tse_spark.groupBy('NM_BANCO').count().orderBy('count', ascending = False).show(20)"
      ]
    },
    {
      "cell_type": "code",
      "execution_count": null,
      "metadata": {
        "scrolled": false,
        "id": "wRehcOi46E5h",
        "outputId": "73e392b6-8138-42c2-b1e4-4bef81fa9ac3",
        "colab": {
          "base_uri": "https://localhost:8080/"
        }
      },
      "outputs": [
        {
          "output_type": "stream",
          "name": "stdout",
          "text": [
            "+--------------------+------+\n",
            "|      NM_CONTRAPARTE| count|\n",
            "+--------------------+------+\n",
            "|              #NULO#|184895|\n",
            "|BANCO DO BRASIL S.A.| 86961|\n",
            "|Facebook Servicos...| 62946|\n",
            "|BRADESCO/TARIFA B...| 32394|\n",
            "|SECRETARIA DO TES...| 25269|\n",
            "|TITULO - OUTRO BA...| 23947|\n",
            "|CAIXA ECONOMICA F...| 21850|\n",
            "|PARTIDO LIBERAL (PL)| 17441|\n",
            "|PARTIDO DOS TRABA...| 14466|\n",
            "|Facebook Servicos...| 13659|\n",
            "|TITULO - OUTRO BA...| 13364|\n",
            "|                 MDB| 10536|\n",
            "|REPUBLICANOS - BR...|  9639|\n",
            "|        UNIAO BRASIL|  9585|\n",
            "|PROGRESSISTAS - B...|  7729|\n",
            "|FACEBOOK SERVICOS...|  5885|\n",
            "| PARTIDO LIBERAL  PL|  5429|\n",
            "|             PODEMOS|  4988|\n",
            "|PARTIDO SOCIAL DE...|  4817|\n",
            "|DLOCAL BRASIL I D...|  3976|\n",
            "+--------------------+------+\n",
            "only showing top 20 rows\n",
            "\n"
          ]
        }
      ],
      "source": [
        "# Análise de contrapartes\n",
        "tse_spark.groupBy('NM_CONTRAPARTE').count().orderBy('count', ascending = False).show(20)"
      ]
    },
    {
      "cell_type": "markdown",
      "metadata": {
        "id": "gy3W8VyT6E5h"
      },
      "source": [
        "## Verificando a Consistência dos Dados"
      ]
    },
    {
      "cell_type": "code",
      "execution_count": null,
      "metadata": {
        "scrolled": true,
        "id": "WNSt1auW6E5h",
        "outputId": "ced76217-8ffc-4863-deb2-b4958a186f84",
        "colab": {
          "base_uri": "https://localhost:8080/"
        }
      },
      "outputs": [
        {
          "output_type": "stream",
          "name": "stdout",
          "text": [
            "+-----------------------+--------------+\n",
            "|NR_CPF_CNPJ_CONTRAPARTE|NM_CONTRAPARTE|\n",
            "+-----------------------+--------------+\n",
            "|                 193636|             0|\n",
            "+-----------------------+--------------+\n",
            "\n"
          ]
        }
      ],
      "source": [
        "from pyspark.sql.functions import when\n",
        "\n",
        "# Verificar se todos os lançamentos têm contrapartes válidas\n",
        "tse_spark.select([count(when(col('NR_CPF_CNPJ_CONTRAPARTE').isNull(), 'NR_CPF_CNPJ_CONTRAPARTE')).alias('NR_CPF_CNPJ_CONTRAPARTE'),\n",
        "           count(when(col('NM_CONTRAPARTE').isNull(), 'NM_CONTRAPARTE')).alias('NM_CONTRAPARTE')]).show()"
      ]
    },
    {
      "cell_type": "markdown",
      "metadata": {
        "id": "KY20FHzb6E5h"
      },
      "source": [
        "## Outliers\n",
        "\n",
        "Agora, utilizaremos técnicas para identificação de possíveis outliers"
      ]
    },
    {
      "cell_type": "code",
      "execution_count": null,
      "metadata": {
        "id": "jKms84SP6E5i",
        "outputId": "8527cdc0-6e1c-4432-e360-1d92d659c596",
        "colab": {
          "base_uri": "https://localhost:8080/"
        }
      },
      "outputs": [
        {
          "output_type": "stream",
          "name": "stdout",
          "text": [
            "+-------+------------------+\n",
            "|summary|    valor_numerico|\n",
            "+-------+------------------+\n",
            "|  count|           4823139|\n",
            "|   mean|2781.1664959726436|\n",
            "| stddev|   35205.153526378|\n",
            "|    min|               0.0|\n",
            "|    max|           1.945E7|\n",
            "+-------+------------------+\n",
            "\n"
          ]
        }
      ],
      "source": [
        "# Estatísticas Descritivas\n",
        "# Obter estatísticas descritivas\n",
        "tse_spark.describe('valor_numerico').show()"
      ]
    },
    {
      "cell_type": "markdown",
      "source": [
        "A fórmula do **Z-Score** é usada para calcular o número de desvios padrão que um valor está distante da média de um conjunto de dados. A fórmula é:\n",
        "\n",
        "$$ Z = \\frac{\\text{valor_numerico} - \\text{média}}{\\text{desvio padrão}} $$\n",
        "\n",
        "**Interpretação:**\n",
        "\n",
        "Um **Z-Score positivo** indica que o valor está acima da média.\n",
        "\n",
        "Um **Z-Score negativo** indica que o valor está abaixo da média.\n",
        "\n",
        "O Z-Score ajuda a determinar quão incomum ou significativo um valor é dentro de um conjunto, sendo muito usado em estatística para padronização."
      ],
      "metadata": {
        "id": "XR26HzlE7Z8q"
      }
    },
    {
      "cell_type": "markdown",
      "source": [
        "**mean:** Esta função calcula a média aritmética (ou seja, o valor médio) de uma coluna específica em um DataFrame Spark.\n",
        "\n",
        "**stddev:** Esta função calcula o desvio padrão da coluna especificada, que é uma medida de dispersão ou variação dos dados em torno da média."
      ],
      "metadata": {
        "id": "60Q9DbsXN8v6"
      }
    },
    {
      "cell_type": "markdown",
      "source": [
        "**tse_spark.select(\"z_score\"):** Seleciona a coluna chamada **z_score** de um DataFrame Spark chamado **tse_spark**. O resultado ainda é um DataFrame, mas com apenas essa coluna.\n",
        "\n",
        "**.rdd:** Converte o DataFrame para um RDD (Resilient Distributed Dataset), que é uma estrutura de dados mais primitiva no Spark, usada para paralelismo e processamento distribuído.\n",
        "\n",
        "**.flatMap(lambda x: x):** Aplica uma transformação chamada **flatMap** no **RDD.** Aqui, a função lambda **lambda x: x** é usada para \"desembrulhar\" os valores dentro das linhas do RDD. Basicamente, isso pega os valores da coluna **z_score** de cada linha e os transforma em um formato simples (uma lista achatada).\n",
        "\n",
        "**.collect():** Reúne todos os dados processados no RDD em uma única lista Python no driver local. Essa operação pode ser cara em termos de memória se o conjunto de dados for muito grande, pois transfere todos os dados para a memória local."
      ],
      "metadata": {
        "id": "cMmESc4TOg70"
      }
    },
    {
      "cell_type": "code",
      "execution_count": null,
      "metadata": {
        "id": "WCfXbvq16E5i"
      },
      "outputs": [],
      "source": [
        "# Z-Score\n",
        "\n",
        "from pyspark.sql.functions import mean, stddev\n",
        "\n",
        "# Calcular a média e o desvio padrão da variável\n",
        "mean_value = tse_spark.select(mean(col(\"valor_numerico\"))).collect()[0][0]\n",
        "stddev_value = tse_spark.select(stddev(col(\"valor_numerico\"))).collect()[0][0]\n",
        "\n",
        "# Calcular o Z-Score\n",
        "tse_spark = tse_spark.withColumn(\"z_score\", (col(\"valor_numerico\") - mean_value) / stddev_value)\n",
        "\n",
        "# Coletar os dados para visualização\n",
        "z_scores = tse_spark.select(\"z_score\").rdd.flatMap(lambda x: x).collect()"
      ]
    },
    {
      "cell_type": "markdown",
      "source": [
        "Em português, **threshold** geralmente se refere a um limite ou valor de corte que é usado como referência em diversas situações na programação ou análise de dados. Aqui estão alguns exemplos de como isso pode ser aplicado:\n",
        "\n",
        "**Machine Learning** **(Aprendizado de Máquina):** O threshold é usado para determinar, por exemplo, a probabilidade mínima para classificar uma previsão em uma categoria específica. Por exemplo, em um modelo de classificação binária, você pode definir um threshold de 0,5 para decidir se algo pertence à classe A ou B.\n",
        "\n",
        "**Filtragem de Dados:** Um threshold pode ser utilizado para incluir ou excluir dados. Por exemplo, você pode filtrar uma tabela para manter apenas valores acima ou abaixo de um determinado valor.\n",
        "\n",
        "**PySpark:** No PySpark, você pode comparar valores em uma coluna com um threshold para aplicar filtros ou executar cálculos. Por exemplo, filtrar linhas em que uma coluna tenha valores maiores ou menores que o limite definido."
      ],
      "metadata": {
        "id": "JW8HzGqgn7zP"
      }
    },
    {
      "cell_type": "code",
      "execution_count": null,
      "metadata": {
        "id": "t6_cE0na6E5i"
      },
      "outputs": [],
      "source": [
        "# Definir um limiar para identificar pontos anômalos\n",
        "threshold = 3 # Ajuste conforme necessário"
      ]
    },
    {
      "cell_type": "markdown",
      "source": [
        "A coluna \"label\" será:\n",
        "\n",
        "1 se o valor absoluto de **\"z_score\"** for maior que threshold.\n",
        "\n",
        "-1 se o valor absoluto de **\"z_score\"** não for maior que threshold.\n",
        "\n",
        "E o **threshold** for definido como 3, significa que o valor limite para tomada de decisão, categorização ou filtragem é 3. No caso do código que você forneceu:\n",
        "\n",
        "Por exemplo:\n",
        "\n",
        "Para um z_score de 4.5, o valor seria 1 (pois 4.5 > 3).\n",
        "\n",
        "Para um z_score de -2.8, o valor seria -1 (pois |-2.8| ≤ 3)."
      ],
      "metadata": {
        "id": "motCO3K8of8O"
      }
    },
    {
      "cell_type": "code",
      "execution_count": null,
      "metadata": {
        "id": "LOFgkrJ86E5i"
      },
      "outputs": [],
      "source": [
        "from pyspark.sql.functions import abs\n",
        "\n",
        "# Criar a coluna 'label' baseada no Z-Score\n",
        "tse_spark = tse_spark.withColumn(\"label\", when(abs(col(\"z_score\")) > threshold, 1).otherwise(-1))"
      ]
    },
    {
      "cell_type": "code",
      "execution_count": null,
      "metadata": {
        "id": "gm22CHV96E5i",
        "outputId": "2dd547c7-70e9-423b-9e31-ad49a7460fed",
        "colab": {
          "base_uri": "https://localhost:8080/",
          "height": 472
        }
      },
      "outputs": [
        {
          "output_type": "display_data",
          "data": {
            "text/plain": [
              "<Figure size 640x480 with 1 Axes>"
            ],
            "image/png": "[encoded data removed]"
          },
          "metadata": {}
        }
      ],
      "source": [
        "# Visualizar os resultados\n",
        "plt.boxplot(z_scores, vert = False)\n",
        "plt.title('Boxplot of Z-Scores')\n",
        "plt.xlabel('Z-Score')\n",
        "plt.show()"
      ]
    },
    {
      "cell_type": "markdown",
      "source": [
        "Esse conjunto abaixo de fórmulas está relacionado ao cálculo do **IQR (Interquartile Range)**, ou Intervalo Interquartil, uma medida estatística que representa a dispersão dos dados, excluindo outliers. Aqui está a explicação:\n",
        "\n",
        "**Q1** **(Primeiro Quartil):**\n",
        "\n",
        "**z_scores_tse['z_score'].quantile(0.25)** calcula o valor do primeiro quartil, ou seja, o ponto que divide os 25% inferiores dos dados do restante. É o valor abaixo do qual 25% dos valores estão localizados.\n",
        "\n",
        "**Q3** **(Terceiro Quartil):**\n",
        "\n",
        "**z_scores_tse['z_score'].quantile(0.75)** calcula o valor do terceiro quartil, que é o ponto que separa os 25% superiores dos dados. Ou seja, 75% dos dados estão abaixo desse valor.\n",
        "\n",
        "**IQR** **(Intervalo Interquartil):**\n",
        "\n",
        "**IQR** **= Q3 - Q1:** Subtraindo o valor do Q1 (primeiro quartil) do Q3 (terceiro quartil), você obtém o intervalo interquartil, que mostra a amplitude central dos 50% dos dados.\n",
        "\n",
        "O **IQR **é frequentemente usado para identificar outliers em um conjunto de dados. Valores são considerados outliers se estiverem abaixo de:\n",
        "\n",
        "**Q1** - **1.5** * **IQR** (extremamente baixos) ou acima de:\n",
        "\n",
        "**Q3** + **1.5** * **IQR** (extremamente altos)."
      ],
      "metadata": {
        "id": "JyE4My1bquFD"
      }
    },
    {
      "cell_type": "code",
      "execution_count": null,
      "metadata": {
        "id": "AdYqxdk56E5j",
        "outputId": "b49d1df6-ebbe-40b2-dc55-e435c97e7b92",
        "colab": {
          "base_uri": "https://localhost:8080/"
        }
      },
      "outputs": [
        {
          "output_type": "stream",
          "name": "stdout",
          "text": [
            "Outliers:\n",
            "           z_score\n",
            "7        0.202051\n",
            "11       0.063026\n",
            "26       0.159603\n",
            "60       0.157984\n",
            "63       0.067639\n",
            "...           ...\n",
            "4823068  0.631124\n",
            "4823085  0.076376\n",
            "4823092  0.291012\n",
            "4823113  0.858117\n",
            "4823117  0.500746\n",
            "\n",
            "[418762 rows x 1 columns]\n"
          ]
        }
      ],
      "source": [
        "# Convertendo a lista de z_scores para um DataFrame do Pandas para facilitar o cálculo\n",
        "z_scores_tse = pd.DataFrame(z_scores, columns = ['z_score'])\n",
        "\n",
        "# Calculando Q1 (25º percentil) e Q3 (75º percentil)\n",
        "Q1 = z_scores_tse['z_score'].quantile(0.25)\n",
        "Q3 = z_scores_tse['z_score'].quantile(0.75)\n",
        "IQR = Q3 - Q1\n",
        "\n",
        "# Definindo limites para outliers\n",
        "lower_bound = Q1 - 3.0 * IQR\n",
        "upper_bound = Q3 + 3.0 * IQR\n",
        "\n",
        "# Identificando outliers\n",
        "outliers = z_scores_tse[(z_scores_tse['z_score'] < lower_bound) | (z_scores_tse['z_score'] > upper_bound)]\n",
        "print(\"Outliers:\\n\", outliers)"
      ]
    },
    {
      "cell_type": "markdown",
      "metadata": {
        "id": "cNCasBJX6E5j"
      },
      "source": [
        "Ranking"
      ]
    },
    {
      "cell_type": "code",
      "execution_count": null,
      "metadata": {
        "id": "I1wy7iU46E5j",
        "outputId": "3d085eb6-2b4d-4de3-bbda-34a61881d9cf",
        "colab": {
          "base_uri": "https://localhost:8080/"
        }
      },
      "outputs": [
        {
          "output_type": "stream",
          "name": "stdout",
          "text": [
            "Outliers Ranqueados:\n",
            "             z_score\n",
            "680917   552.396933\n",
            "3682368  425.994985\n",
            "3583038  425.994985\n",
            "2208932  425.994985\n",
            "3243480  397.590052\n",
            "...             ...\n",
            "3211988    0.060143\n",
            "1749324    0.060143\n",
            "3378223    0.060136\n",
            "3741796    0.060129\n",
            "3307788    0.060129\n",
            "\n",
            "[418762 rows x 1 columns]\n"
          ]
        }
      ],
      "source": [
        "# Ranqueando os outliers em ordem decrescente de valor absoluto do Z-Score\n",
        "ranked_outliers = outliers.reindex(outliers['z_score'].abs().sort_values(ascending = False).index)\n",
        "\n",
        "print(\"Outliers Ranqueados:\\n\", ranked_outliers)"
      ]
    },
    {
      "cell_type": "markdown",
      "metadata": {
        "id": "On-DHWrX6E5j"
      },
      "source": [
        "Visualizando os 10 maiores doações de campanha"
      ]
    },
    {
      "cell_type": "code",
      "execution_count": null,
      "metadata": {
        "id": "nh6B4Pze6E5j",
        "outputId": "f8aeedfb-2e69-4c05-8c7f-601c60f7f1a3",
        "colab": {
          "base_uri": "https://localhost:8080/"
        }
      },
      "outputs": [
        {
          "output_type": "stream",
          "name": "stdout",
          "text": [
            "Top 10 Outliers:\n",
            "             z_score\n",
            "680917   552.396933\n",
            "3682368  425.994985\n",
            "3583038  425.994985\n",
            "2208932  425.994985\n",
            "3243480  397.590052\n",
            "4792903  320.896735\n",
            "1148261  312.375256\n",
            "1940581  303.853776\n",
            "3977132  283.970323\n",
            "1209467  283.970323\n"
          ]
        }
      ],
      "source": [
        "# Selecionando os 10 maiores outliers\n",
        "top_10_outliers = ranked_outliers.head(10)\n",
        "print(\"Top 10 Outliers:\\n\", top_10_outliers)"
      ]
    },
    {
      "cell_type": "markdown",
      "metadata": {
        "id": "p8Fd6dw46E5k"
      },
      "source": [
        "## Teste de Kolmogorov-Smirnov (KS)"
      ]
    },
    {
      "cell_type": "markdown",
      "metadata": {
        "id": "p4KhM-9_6E5k"
      },
      "source": [
        "Agora, vamos testar se a nossa variável segue uma distribuição normal usando o PySpark. Usaremos o Teste de Kolmogorov-Smirnov (KS), pois ele é mais adequado para grandes conjuntos de dados ou em situações onde se precisa comparar uma amostra com uma distribuição específica (não necessariamente normal).\n",
        "\n",
        "$$ D = \\max | F_1(x) - F_2(x) | $$\n",
        "\n",
        "Onde:\n",
        "\n",
        "𝐷\n",
        "𝑛\n",
        ": Estatística KS (máxima diferença cumulativa).\n",
        "\n",
        "𝐹\n",
        "𝑛\n",
        "(\n",
        "𝑥\n",
        ")\n",
        ": Função de distribuição acumulada empírica da amostra.\n",
        "\n",
        "𝐹\n",
        "(\n",
        "𝑥\n",
        ")\n",
        ": Função de distribuição acumulada teórica (esperada).\n",
        "\n",
        "max\n",
        "⁡\n",
        ": Valor máximo das diferenças absolutas."
      ]
    },
    {
      "cell_type": "code",
      "execution_count": null,
      "metadata": {
        "id": "vm630Zbw6E5k",
        "outputId": "4deedf7e-48df-4fb4-96e9-6b57328c5b00",
        "colab": {
          "base_uri": "https://localhost:8080/"
        }
      },
      "outputs": [
        {
          "output_type": "stream",
          "name": "stdout",
          "text": [
            "Statistic: 5.3878016492703296e-09\n",
            "p-value: 0.4685167705436564\n",
            "Não rejeitamos a hipótese nula de que os dados seguem uma distribuição normal.\n"
          ]
        }
      ],
      "source": [
        "from pyspark.ml.stat import KolmogorovSmirnovTest\n",
        "\n",
        "# Realizar o teste KS para verificar normalidade\n",
        "ks_result = KolmogorovSmirnovTest.test(tse_spark, 'z_score', 'norm').head()\n",
        "\n",
        "# Resultados do teste\n",
        "print(\"Statistic:\", ks_result[0])\n",
        "print(\"p-value:\", ks_result[1])\n",
        "\n",
        "if ks_result[1] < 0.05:\n",
        "    print(\"Rejeitamos a hipótese nula de que os dados seguem uma distribuição normal.\")\n",
        "else:\n",
        "    print(\"Não rejeitamos a hipótese nula de que os dados seguem uma distribuição normal.\")"
      ]
    },
    {
      "cell_type": "markdown",
      "metadata": {
        "id": "Rm1rKgKq6E5k"
      },
      "source": [
        "Interpretação dos Resultados:\n",
        "\n",
        "- **Statistic:** Representa a estatística do teste KS, que é a maior diferença entre a função de distribuição empírica da amostra e a função de distribuição cumulativa da distribuição teórica especificada.\n",
        "- **p-value:** Indica a probabilidade de observar um valor da estatística de teste tão extremo quanto, ou mais extremo que, o valor observado sob a hipótese nula.\n",
        "- Se o valor p for menor que o nível de significância (comumente 0.05), rejeitamos a hipótese nula, indicando que os dados não seguem uma distribuição normal.\n",
        "- Se o valor p for maior que o nível de significância, não rejeitamos a hipótese nula, indicando que não há evidência suficiente para afirmar que os dados não seguem uma distribuição normal."
      ]
    },
    {
      "cell_type": "markdown",
      "metadata": {
        "id": "_j5yrWpA6E5k"
      },
      "source": [
        "Por fim, realizaremos o Teste de Grubb que é utilizado para detectar outliers em um conjunto de dados. No entanto, o PySpark não possui uma implementação direta desse teste. Portanto, lançaremos mão da biblioteca externa SciPy para realizar o teste."
      ]
    },
    {
      "cell_type": "markdown",
      "metadata": {
        "id": "wJ3i-fAQ6E5k"
      },
      "source": [
        "## Teste de Grubbs"
      ]
    },
    {
      "cell_type": "markdown",
      "metadata": {
        "id": "WSahxghQ6E5l"
      },
      "source": [
        "Por fim, na análise estatística, realizaremos o Teste de Gubbs, que é um método estatístico utilizado para detectar um único outlier em um conjunto de dados que se assume seguir uma distribuição normal. O teste é particularmente útil quando se deseja identificar valores aberrantes."
      ]
    },
    {
      "cell_type": "code",
      "execution_count": null,
      "metadata": {
        "scrolled": false,
        "id": "7kXp0Llf6E5l"
      },
      "outputs": [],
      "source": [
        "# Selecionar a coluna de interesse\n",
        "tse_selected = tse_spark.select('valor_numerico')\n",
        "\n",
        "# Converter para Pandas DataFrame\n",
        "tse_pandas = tse_selected.toPandas()"
      ]
    },
    {
      "cell_type": "code",
      "execution_count": null,
      "metadata": {
        "id": "cosYgv_x6E5l",
        "outputId": "74982f6c-5920-4fc1-a1f3-42aba723d9c4",
        "colab": {
          "base_uri": "https://localhost:8080/"
        }
      },
      "outputs": [
        {
          "output_type": "stream",
          "name": "stdout",
          "text": [
            "Estatística G calculada: 552.3969329925754\n",
            "Valor crítico de G: 5.72460825320496\n",
            "Há pelo menos um outlier no conjunto de dados.\n"
          ]
        }
      ],
      "source": [
        "from scipy.stats import t\n",
        "\n",
        "# Função para calcular o Teste de Grubbs\n",
        "def grubbs_test(x):\n",
        "    n = len(x)\n",
        "    mean_x = np.mean(x)\n",
        "    std_x = np.std(x, ddof = 1)\n",
        "    abs_diff = np.abs(x - mean_x)\n",
        "    max_diff = np.max(abs_diff)\n",
        "    G = max_diff / std_x\n",
        "\n",
        "    t_dist = t.ppf(1 - 0.05 / (2 * n), n - 2)\n",
        "    G_critical = ((n - 1) / np.sqrt(n)) * np.sqrt(t_dist ** 2 / (n - 2 + t_dist ** 2))\n",
        "\n",
        "    return G, G_critical\n",
        "\n",
        "# Aplicar o Teste de Grubbs\n",
        "values = tse_pandas['valor_numerico'].values\n",
        "G, G_critical = grubbs_test(values)\n",
        "\n",
        "print(f\"Estatística G calculada: {G}\")\n",
        "print(f\"Valor crítico de G: {G_critical}\")\n",
        "\n",
        "if G > G_critical:\n",
        "    print(\"Há pelo menos um outlier no conjunto de dados.\")\n",
        "else:\n",
        "    print(\"Não há outliers significativos no conjunto de dados.\")"
      ]
    },
    {
      "cell_type": "markdown",
      "metadata": {
        "id": "lGzOqAUg6E5l"
      },
      "source": [
        "Interpretação dos Resultados:\n",
        "\n",
        "- Estatística G: Representa a maior diferença padronizada entre um ponto de dados e a média do conjunto de dados.\n",
        "- Valor Crítico G: Calculado com base na distribuição t de Student, leva em conta o tamanho da amostra e o nível de significância (alpha).\n",
        "- Se a estatística G for maior que o valor crítico G, isso indica que há pelo menos um outlier significativo no conjunto de dados.\n",
        "- Se a estatística G for menor ou igual ao valor crítico G, não há evidência suficiente para afirmar que há outliers significativos no conjunto de dados."
      ]
    },
    {
      "cell_type": "code",
      "execution_count": null,
      "metadata": {
        "id": "DtibAQAf6E5l",
        "outputId": "26a7c031-9a3a-4a6d-c840-8a734ba2a6f5",
        "colab": {
          "base_uri": "https://localhost:8080/",
          "height": 621
        }
      },
      "outputs": [
        {
          "output_type": "stream",
          "name": "stderr",
          "text": [
            "/usr/local/lib/python3.11/dist-packages/IPython/core/pylabtools.py:151: UserWarning: Creating legend with loc=\"best\" can be slow with large amounts of data.\n",
            "  fig.canvas.print_figure(bytes_io, **kw)\n"
          ]
        },
        {
          "output_type": "display_data",
          "data": {
            "text/plain": [
              "<Figure size 1000x600 with 1 Axes>"
            ],
            "image/png": "[encoded data removed]"
          },
          "metadata": {}
        }
      ],
      "source": [
        "# Visualização dos resultados\n",
        "plt.figure(figsize = (10, 6))\n",
        "plt.plot(values, marker = 'o', linestyle = '-', label = 'Values')\n",
        "plt.axhline(y = np.mean(values), color = 'r', linestyle = '--', label = 'Average')\n",
        "plt.axhline(y = np.mean(values) + G * np.std(values, ddof = 1), color = 'g', linestyle = '--', label = 'Upper outlier limit')\n",
        "plt.axhline(y = np.mean(values) - G * np.std(values, ddof = 1), color = 'g', linestyle = '--', label = 'Lower outlier limit')\n",
        "plt.legend()\n",
        "plt.title('Visualization of Grubbs Test Results')\n",
        "plt.xlabel('Index')\n",
        "plt.ylabel('Value')\n",
        "plt.show()"
      ]
    },
    {
      "cell_type": "markdown",
      "metadata": {
        "id": "XKseFmSh6E5m"
      },
      "source": [
        "> # Machine Learning\n",
        "\n",
        "Até aqui, o modelo apresentou uma análise inicial da base de dados do TSE utilizando PySpark para processamento e algumas técnicas estatísticas para a identificação de outliers, como o Teste de Grubbs. Para melhorar e inovar o estudo, podemos aplicar métodos de machine learning mais avançados e adequados à detecção de outliers. Vamos avaliar a seguir algumas abordagens que podem ser objetivas e replicáveis para a tarefa em questão:"
      ]
    },
    {
      "cell_type": "code",
      "execution_count": null,
      "metadata": {
        "id": "D36WcSr96E5m"
      },
      "outputs": [],
      "source": [
        "# Imports\n",
        "from pyspark.ml.feature import VectorAssembler\n",
        "from pyspark.ml.classification import RandomForestClassifier\n",
        "from pyspark.ml import Pipeline\n",
        "from pyspark.sql.functions import col, pandas_udf\n",
        "from sklearn.ensemble import IsolationForest"
      ]
    },
    {
      "cell_type": "code",
      "execution_count": null,
      "metadata": {
        "id": "-e-whYLY6E5m"
      },
      "outputs": [],
      "source": [
        "from pyspark.sql.functions import monotonically_increasing_id\n",
        "\n",
        "# Adicionar uma coluna de identificador único\n",
        "tse_spark = tse_spark.withColumn('id', monotonically_increasing_id())"
      ]
    },
    {
      "cell_type": "markdown",
      "metadata": {
        "id": "1HUUl2RZ6E5m"
      },
      "source": [
        "## 1. Isolation Forest\n",
        "\n",
        "Baseado em árvores de decisão abaixo, o Isolation Forest isola observações ao particionar os dados de forma recursiva. Observações que requerem poucas partições para serem isoladas são consideradas outliers. Ou seja, a vantagem é que o modelo identifica outliers isolando observações que são menos frequentes em menor número de divisões.\n",
        "\n",
        "O decorador **@pandas_udf(\"int\")** é usado no PySpark, que é uma biblioteca para processamento de dados em larga escala. Especificamente, é usado para definir uma função de usuário (User-Defined Function ou UDF) que opera em dados em formato de Pandas.\n",
        "\n",
        "Essa função **isolation_forest_udf** usa o algoritmo Isolation Forest para detectar anomalias (ou outliers) em uma série de dados fornecida. Ela recebe como entrada uma série do Pandas **(pd.Series)** e retorna outra série que contém os resultados da análise (1 para \"normal\" e -1 para \"anomalia\").\n",
        "\n",
        "Essa função **isolation_forest_udf** usa o algoritmo Isolation Forest para detectar anomalias (ou outliers) em uma série de dados fornecida. Ela recebe como entrada uma série do Pandas **(pd.Series)** e retorna outra série que contém os resultados da análise (1 para \"normal\" e -1 para \"anomalia\").\n",
        "\n",
        "**IsolationForest**: É um algoritmo baseado em árvores que identifica anomalias isolando pontos em subgrupos dos dados.\n",
        "\n",
        "**contamination=0.01:** Define que aproximadamente 1% dos dados são considerados como anomalias.\n",
        "\n",
        "**random_state=42:** Garante que o resultado seja reproduzível (usando uma semente fixa para geração aleatória).\n",
        "\n",
        "**series.values:** Extrai os valores da série como um array NumPy.\n",
        "\n",
        "**.reshape(-1, 1):** Ajusta os dados para que fiquem no formato de uma matriz 2D (necessário para o modelo, pois ele espera uma matriz com uma coluna).\n",
        "\n",
        "**model.fit_predict(series):** O modelo é treinado e usado para prever ao mesmo tempo. Ele retorna:\n",
        "\n",
        "**1:** Indica um valor normal.\n",
        "\n",
        "**-1:** Indica que o valor é uma anomalia (outlier).\n",
        "\n",
        "**pd.Series():** Converte os resultados do NumPy de volta para uma série do Pandas."
      ]
    },
    {
      "cell_type": "code",
      "execution_count": null,
      "metadata": {
        "scrolled": false,
        "id": "Z7zNXTNB6E5m"
      },
      "outputs": [],
      "source": [
        "# Função Pandas UDF para aplicar o Isolation Forest\n",
        "@pandas_udf(\"int\")\n",
        "def isolation_forest_udf(series: pd.Series) -> pd.Series:\n",
        "    model = IsolationForest(contamination = 0.01, random_state = 42)\n",
        "    series = series.values.reshape(-1, 1)\n",
        "    return pd.Series(model.fit_predict(series))\n",
        "\n",
        "# Aplicar o UDF ao DataFrame do Spark\n",
        "tse_spark = tse_spark.withColumn('outlier_if', isolation_forest_udf(col('valor_numerico')))"
      ]
    },
    {
      "cell_type": "markdown",
      "metadata": {
        "id": "GgaviXGF6E5m"
      },
      "source": [
        "## 2. Local Outlier Factor (LOF)\n",
        "\n",
        "A função utiliza o modelo **Local Outlier Factor (LOF)** para identificar anomalias (outliers) em uma série de dados. Ela retorna uma nova série Pandas com os resultados da análise, onde os valores indicam se o ponto é normal ou um outlier:\n",
        "\n",
        "1: Dado normal.\n",
        "\n",
        "-1: Dado considerado como outlier.\n",
        "\n",
        "**LocalOutlierFactor:** É um algoritmo que mede a densidade de vizinhança para identificar pontos que estão fora do padrão (outliers).\n",
        "\n",
        "**n_neighbors=20:** Define que a densidade de cada ponto será comparada com seus 20 vizinhos mais próximos.\n",
        "\n",
        "**contamination=0.01:** Indica que cerca de 1% dos dados são considerados anomalias.\n",
        "\n",
        "**series.values:** Converte os dados da série para um array NumPy.\n",
        "\n",
        "**.reshape(-1, 1):** Ajusta os dados para o formato esperado pelo modelo, uma matriz 2D com uma única coluna.\n",
        "\n",
        "**model.fit_predict(series):** O modelo calcula e retorna os resultados, indicando:\n",
        "\n",
        "**1:** Ponto normal.\n",
        "\n",
        "**-1:** Ponto identificado como outlier.\n",
        "\n",
        "**pd.Series():** Converte os resultados do NumPy novamente para uma série Pandas, mantendo a compatibilidade com o formato original.\n",
        "\n"
      ]
    },
    {
      "cell_type": "code",
      "execution_count": null,
      "metadata": {
        "id": "vHzAM_qf6E5n"
      },
      "outputs": [],
      "source": [
        "from sklearn.neighbors import LocalOutlierFactor\n",
        "\n",
        "# Função Pandas UDF para aplicar o Local Outlier Factor (LOF)\n",
        "@pandas_udf(\"int\")\n",
        "def lof_udf(series: pd.Series) -> pd.Series:\n",
        "    model = LocalOutlierFactor(n_neighbors = 20, contamination = 0.01)\n",
        "    series = series.values.reshape(-1, 1)\n",
        "    return pd.Series(model.fit_predict(series))\n",
        "\n",
        "# Aplicar o UDF ao DataFrame do Spark\n",
        "tse_spark = tse_spark.withColumn('outlier_lof', lof_udf(col('valor_numerico')))"
      ]
    },
    {
      "cell_type": "markdown",
      "metadata": {
        "id": "KK7ZImp26E5n"
      },
      "source": [
        "## 3. DBSCAN (Density-Based Spatial Clustering of Applications with Noise)\n",
        "\n",
        "Consiste no método de clustering que identifica outliers como pontos que não pertencem a nenhum cluster denso. Sua vantagem persiste no fato de não ser preciso definir o número de clusters previamente e ser eficaz em identificar ruído.\n",
        "\n",
        "A função utiliza o DBSCAN para detectar outliers e clusters em uma série de dados. Depois, ela mapeia os outliers (ruído) para 1 e os dados normais (membros de clusters) para -1. Isso inverte a lógica padrão dos rótulos gerados pelo DBSCAN.\n",
        "\n",
        "**DBSCAN(eps=0.5):** Define o raio máximo de distância **(eps)** para considerar pontos como vizinhos.\n",
        "\n",
        "**min_samples=5:** Define o número mínimo de pontos necessários para formar um cluster.\n",
        "\n",
        "**series.values:** Converte a série Pandas para um array NumPy.\n",
        "\n",
        "**.reshape(-1, 1): **Ajusta o formato do array para 2D (uma coluna), que é o formato esperado pelo modelo DBSCAN.\n",
        "\n",
        "**fit_predict:** Realiza o treinamento do modelo e retorna os rótulos de cada ponto.\n",
        "\n",
        "**Rótulos gerados pelo DBSCAN:**\n",
        "\n",
        "**-1:** Identifica pontos considerados como ruído (outliers).\n",
        "\n",
        "**0, 1, 2, ...:**  Identifica os diferentes clusters formados.\n",
        "\n",
        "**np.where(labels == -1, 1, -1):**\n",
        " Substitui o rótulo de outliers **(-1)** por **1** e mapeia os outros rótulos (0, 1, ...) para -1.\n",
        "\n",
        "**pd.Series():** Converte o resultado de volta para uma série Pandas."
      ]
    },
    {
      "cell_type": "code",
      "execution_count": null,
      "metadata": {
        "id": "OPIAfOcl6E5n"
      },
      "outputs": [],
      "source": [
        "from sklearn.cluster import DBSCAN\n",
        "from pyspark.sql.types import IntegerType\n",
        "\n",
        "# Função Pandas UDF para aplicar o DBSCAN\n",
        "@pandas_udf(\"int\")\n",
        "def dbscan_udf(series: pd.Series) -> pd.Series:\n",
        "    model = DBSCAN(eps = 0.5, min_samples = 5)\n",
        "    series = series.values.reshape(-1, 1)\n",
        "    labels = model.fit_predict(series)\n",
        "    # DBSCAN labels: -1 for noise (outliers), 0, 1, 2, ... for clusters\n",
        "    # Convert -1 (outliers) to 1 and others to -1\n",
        "    return pd.Series(np.where(labels == -1, 1, -1))\n",
        "\n",
        "# Aplicar o UDF ao DataFrame do Spark para calcular os rótulos do DBSCAN\n",
        "tse_spark = tse_spark.withColumn('outlier_dbscan', dbscan_udf(col('valor_numerico')))"
      ]
    },
    {
      "cell_type": "markdown",
      "metadata": {
        "id": "5ce5eZnm6E5n"
      },
      "source": [
        "## Avaliação dos modelos\n",
        "\n",
        "Utilizaremos Precision (Precisão), Recall (Sensibilidade ou Revocação), F1-score e AUC-ROC (Área Sob a Curva ROC)"
      ]
    },
    {
      "cell_type": "code",
      "execution_count": null,
      "metadata": {
        "id": "HrIDzCFF6E5n"
      },
      "outputs": [],
      "source": [
        "from pyspark.ml.evaluation import BinaryClassificationEvaluator\n",
        "from pyspark.sql.types import DoubleType"
      ]
    },
    {
      "cell_type": "code",
      "execution_count": null,
      "metadata": {
        "id": "LD9U5s-A6E5n"
      },
      "outputs": [],
      "source": [
        "# Converter colunas de previsão para o tipo double\n",
        "tse_spark = tse_spark.withColumn('outlier_if', col('outlier_if').cast(DoubleType()))\n",
        "tse_spark = tse_spark.withColumn('outlier_lof', col('outlier_lof').cast(DoubleType()))\n",
        "tse_spark = tse_spark.withColumn('outlier_dbscan', col('outlier_dbscan').cast(DoubleType()))"
      ]
    },
    {
      "cell_type": "markdown",
      "source": [
        "Essa função abaixo **calculate_metrics** calcula métricas comuns para avaliação de modelos de classificação binária: **Precisão (Precision), Revocação (Recall) e F1-Score.** O cálculo é feito a partir de um DataFrame (provavelmente do PySpark) que contém as colunas label (valores reais) e **prediction_col** (valores previstos pelo modelo).\n",
        "\n",
        "**True Positives (TP):** Conta o número de casos em que o valor real **(label)** é 1 e o valor previsto **(prediction_col)** também é 1.\n",
        "\n",
        "**False Positives (FP):** Conta o número de casos em que o valor real é **-1** mas o valor previsto foi 1. Estes são erros onde algo foi classificado incorretamente como positivo.\n",
        "\n",
        "**False Negatives (FN):** Conta o número de casos em que o valor real é 1 **mas** o valor previsto foi -1. São erros onde algo positivo foi classificado como negativo.\n",
        "\n",
        "**Precisão:** Mede a proporção de previsões positivas corretas em relação ao total de previsões positivas.\n",
        "\n",
        "**Fórmula**: $$ \\text{Precisão} = \\frac{\\text{TP}}{\\text{TP} + \\text{FP}} $$\n",
        "\n",
        "Revocação: **negrito** Mede a proporção de exemplos positivos corretamente identificados em relação ao total de exemplos positivos reais.\n",
        "\n",
        "**Fórmula:** $$ \\text{Recall} = \\frac{\\text{TP}}{\\text{TP} + \\text{FN}} $$\n",
        "\n",
        "F1-Score: Média harmônica entre precisão e revocação. Equilibra as duas métricas em um único valor.\n",
        "\n",
        "**Fórmula:** $$ F1 = 2 \\cdot \\frac{\\text{Precisão} \\cdot \\text{Recall}}{\\text{Precisão} + \\text{Recall}} $$\n",
        "\n",
        "**Casos de Divisão por Zero:** Se o denominador for zero em qualquer métrica, ela será definida como zero para evitar erros.\n",
        "\n",
        "**Escalabilidade:** Como o código usa filtros e contagens do PySpark, ele é eficiente para grandes volumes de dados distribuídos."
      ],
      "metadata": {
        "id": "cbzLAtSQQ2qd"
      }
    },
    {
      "cell_type": "markdown",
      "source": [
        "A função **calculate_auc** calcula a **Área Sob a Curva Característica de Operação do Receptor (AUC-ROC)** para um modelo de classificação binária utilizando o **BinaryClassificationEvaluator** do PySpark. Vamos detalhar:\n",
        "\n",
        "**BinaryClassificationEvaluator:** É um avaliador do PySpark que calcula métricas para modelos de classificação binária.\n",
        "\n",
        "**labelCol='label':** Especifica a coluna do DataFrame que contém os rótulos verdadeiros.\n",
        "\n",
        "**rawPredictionCol=prediction_col:** Refere-se à coluna que armazena as pontuações brutas de predição do modelo.\n",
        "\n",
        "**metricName='areaUnderROC':** Define que a métrica a ser calculada é o AUC-ROC.\n",
        "\n",
        "**evaluator.evaluate(df):** Avalia o DataFrame (df) com base na métrica especificada e retorna o valor do AUC.\n",
        "\n",
        "A função retorna o valor do AUC, que é uma medida útil para avaliar o desempenho do seu modelo de classificação binária."
      ],
      "metadata": {
        "id": "bHaXfUbXU5Km"
      }
    },
    {
      "cell_type": "code",
      "execution_count": null,
      "metadata": {
        "id": "iUQb9zZ36E5n",
        "outputId": "cde62392-30b7-4390-9e14-49aba9e112ad",
        "colab": {
          "base_uri": "https://localhost:8080/"
        }
      },
      "outputs": [
        {
          "output_type": "stream",
          "name": "stdout",
          "text": [
            "Model: outlier_if\n",
            "Precision: 0.0022250342409558667\n",
            "Recall: 0.9900353883404731\n",
            "F1-score: 0.004440089695575489\n",
            "AUC-ROC: 0.0037496875260394913\n",
            "\n",
            "Model: outlier_lof\n",
            "Precision: 0.002225122502156013\n",
            "Recall: 0.9894766250698455\n",
            "F1-score: 0.004440259804302602\n",
            "AUC-ROC: 0.5049999989610177\n",
            "\n",
            "Model: outlier_dbscan\n",
            "Precision: 0.005091977225016514\n",
            "Recall: 0.41134289439374183\n",
            "F1-score: 0.01005942966199451\n",
            "AUC-ROC: 0.8894961020288228\n",
            "\n"
          ]
        }
      ],
      "source": [
        "# Função para calcular Precision, Recall e F1-score\n",
        "def calculate_metrics(df, prediction_col):\n",
        "    tp = df.filter((col('label') == 1) & (col(prediction_col) == 1)).count()\n",
        "    fp = df.filter((col('label') == -1) & (col(prediction_col) == 1)).count()\n",
        "    fn = df.filter((col('label') == 1) & (col(prediction_col) == -1)).count()\n",
        "    precision = tp / (tp + fp) if (tp + fp) != 0 else 0\n",
        "    recall = tp / (tp + fn) if (tp + fn) != 0 else 0\n",
        "    f1_score = 2 * (precision * recall) / (precision + recall) if (precision + recall) != 0 else 0\n",
        "    return precision, recall, f1_score\n",
        "\n",
        "# Função para calcular AUC-ROC\n",
        "def calculate_auc(df, prediction_col):\n",
        "    evaluator = BinaryClassificationEvaluator(labelCol='label', rawPredictionCol=prediction_col, metricName='areaUnderROC')\n",
        "    auc = evaluator.evaluate(df)\n",
        "    return auc\n",
        "\n",
        "# DataFrame com os resultados\n",
        "# tse_spark já possui a coluna 'label' criada anteriormente\n",
        "#Essa parte do código está percorrendo uma lista de modelos e calculando várias\n",
        "#métricas de desempenho para cada um deles, como precisão, recall, F1-score e AUC-ROC.\n",
        "#Vou detalhar o que está acontecendo:\n",
        "\n",
        "models = ['outlier_if', 'outlier_lof', 'outlier_dbscan']\n",
        "metrics = {}\n",
        "\n",
        "for model in models:\n",
        "    precision, recall, f1_score = calculate_metrics(tse_spark, model)\n",
        "    auc = calculate_auc(tse_spark, model)\n",
        "    metrics[model] = {\n",
        "        'precision': precision,\n",
        "        'recall': recall,\n",
        "        'f1_score': f1_score,\n",
        "        'auc_roc': auc\n",
        "    }\n",
        "\n",
        "# Exibir métricas\n",
        "for model, metric in metrics.items():\n",
        "    print(f\"Model: {model}\")\n",
        "    print(f\"Precision: {metric['precision']}\")\n",
        "    print(f\"Recall: {metric['recall']}\")\n",
        "    print(f\"F1-score: {metric['f1_score']}\")\n",
        "    print(f\"AUC-ROC: {metric['auc_roc']}\\n\")"
      ]
    },
    {
      "cell_type": "markdown",
      "metadata": {
        "id": "2-E3-AUi6E5o"
      },
      "source": [
        "## Visualização de outliers"
      ]
    },
    {
      "cell_type": "code",
      "execution_count": null,
      "metadata": {
        "id": "gj0RzG8f6E5o"
      },
      "outputs": [],
      "source": [
        "# Selecionar a coluna de interesse\n",
        "df_selected_if = tse_spark.select('outlier_if')\n",
        "\n",
        "# Converter para Pandas DataFrame\n",
        "tse_pandas['outlier_if'] = df_selected_if.toPandas()"
      ]
    },
    {
      "cell_type": "code",
      "execution_count": null,
      "metadata": {
        "scrolled": false,
        "id": "6i6Z2a9V6E5o",
        "outputId": "4e5abb39-fa54-48aa-a328-631f116331ca",
        "colab": {
          "base_uri": "https://localhost:8080/",
          "height": 563
        }
      },
      "outputs": [
        {
          "output_type": "display_data",
          "data": {
            "text/plain": [
              "<Figure size 1000x600 with 1 Axes>"
            ],
            "image/png": "[encoded data removed]"
          },
          "metadata": {}
        }
      ],
      "source": [
        "# Visualização\n",
        "plt.figure(figsize = (10, 6))\n",
        "plt.scatter(tse_pandas.index, tse_pandas['valor_numerico'], c = tse_pandas['outlier_if'])\n",
        "plt.title('Isolation Forest Outlier Detection')\n",
        "plt.show()"
      ]
    },
    {
      "cell_type": "markdown",
      "source": [
        "**Conclusão**\n",
        "\n",
        "Este estudo abordou a análise e detecção de outliers nas prestações de contas\n",
        "eleitorais de 2024, utilizando um conjunto de dados massivos disponibilizado pelo Tribunal Superior Eleitoral (TSE). Através de técnicas de aprendizado de máquina, análise de grafos e métodos estatísticos, foi possível identificar padrões anômalos e investigar possíveis irregularidades nas transações financeiras realizadas pelos candidatos durante as campanhas eleitorais.\n",
        "\n",
        "Os resultados da análise exploratória dos dados revelaram uma distribuição altamente assimétrica das transações financeiras, com presença significativa de valores extremos.\n",
        "\n",
        "A aplicação de diferentes técnicas de detecção de outliers, como **Isolation Forest, Local Outlier Factor (LOF) e DBSCAN,** demonstrou que, embora todos os métodos fossem eficazes na identificação de outliers, cada um apresentou vantagens e limitações específicas. **Isolation Forest e LOF** mostraram alta sensibilidade, mas geraram muitos falsos positivos, enquanto **DBSCAN** apresentou uma melhor precisão na separação entre outliers e não-outliers.\n",
        "\n",
        "A análise de grafos permitiu uma visualização clara das relações entre candidatos,contrapartes e partidos políticos, identificando os principais atores na rede de financiamento. A centralidade de grau revelou que certas entidades financeiras e partidos políticos desempenham um papel central nas transações financeiras, destacando a influência desproporcional de alguns nós na rede.\n",
        "\n",
        "As análises temporais e por categoria de transação forneceram insights adicionais sobre as práticas financeiras nas campanhas eleitorais, evidenciando picos de transações antes e durante o período eleitoral, e uma predominância de transações realizadas por pessoas jurídicas e partidos políticos específicos.\n",
        "Em termos de contribuição prática, este estudo não apenas proporcionou uma\n",
        "compreensão detalhada das dinâmicas financeiras das campanhas eleitorais de 2024, mas também sugeriu melhorias para os processos de auditoria e fiscalização.\n",
        "\n",
        "As técnicas de detecção de outliers e análise de grafos aplicadas podem ser utilizadas por órgãos reguladores e fiscalizadores para focar em áreas e transações que apresentam maior risco de irregularidades.\n",
        "\n",
        "Além disso, a pesquisa contribui para a promoção da transparência e accountability no processo eleitoral, alinhando-se aos princípios da Política de Dados Abertos do TSE.\n",
        "\n",
        "Ao utilizar um framework metodológico robusto que combina técnicas de\n",
        "processamento de grandes volumes de dados, aprendizado de máquina e análise de\n",
        "grafos, este estudo estabelece uma base sólida para futuras investigações e\n",
        "aplicações em contextos similares.\n",
        "\n",
        "Em resumo, a análise detalhada das transações financeiras eleitorais de 2024 revelou padrões significativos e outliers que merecem investigação adicional. As abordagens multidisciplinares utilizadas neste estudo fornecem uma compreensão profunda das interações financeiras e sugerem a necessidade de políticas mais rigorosas para assegurar a integridade e equidade no financiamento de campanhas eleitorais."
      ],
      "metadata": {
        "id": "9XJoKZj-16t5"
      }
    },
    {
      "cell_type": "code",
      "execution_count": null,
      "metadata": {
        "id": "wOR_mZjfUWW3"
      },
      "outputs": [],
      "source": [
        "# Encerra a sessão Spark\n",
        "spark_session.stop()"
      ]
    },
    {
      "cell_type": "markdown",
      "metadata": {
        "id": "dHlEC75H6E5o"
      },
      "source": [
        "# Fim"
      ]
    }
  ],
  "metadata": {
    "colab": {
      "provenance": [],
      "include_colab_link": true
    },
    "kernelspec": {
      "display_name": "Python 3 (ipykernel)",
      "language": "python",
      "name": "python3"
    },
    "language_info": {
      "codemirror_mode": {
        "name": "ipython",
        "version": 3
      },
      "file_extension": ".py",
      "mimetype": "text/x-python",
      "name": "python",
      "nbconvert_exporter": "python",
      "pygments_lexer": "ipython3",
      "version": "3.11.4"
    }
  },
  "nbformat": 4,
  "nbformat_minor": 0
}